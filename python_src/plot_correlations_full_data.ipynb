{
 "cells": [
  {
   "cell_type": "markdown",
   "metadata": {},
   "source": [
    "# Plot correlation function\n",
    "This notebook is based on `correlation_function.py` that will produce the `.npz` file that is used here"
   ]
  },
  {
   "cell_type": "code",
   "execution_count": 2,
   "metadata": {},
   "outputs": [],
   "source": [
    "%load_ext autoreload\n",
    "%autoreload 2\n",
    "\n",
    "from plot_correlations_from_npz import *\n",
    "%config InlineBackend.figure_format ='retina'\n"
   ]
  },
  {
   "cell_type": "markdown",
   "metadata": {},
   "source": [
    "### Reading files"
   ]
  },
  {
   "cell_type": "code",
   "execution_count": 3,
   "metadata": {},
   "outputs": [
    {
     "name": "stdout",
     "output_type": "stream",
     "text": [
      "acetate_hi1\tacetate_hi3\tacetate_med2\tacetate_med3\tacetate_rplN\tacetate_rpmB\tacetate_rpsB\tacetate_rrnB\tglucose_hi1\tglucose_hi3\tglucose_med2\tglucose_med3\tglucose_rplN\tglucose_rpmB\tglucose_rpsB\tglucose_rrnB\tglucoseaa_hi1\tglucoseaa_hi3\tglucoseaa_med2\tglucoseaa_med3\tglucoseaa_rplN\tglucoseaa_rpmB\tglucoseaa_rpsB\tglucoseaa_rrnB\tglycerol_hi1\tglycerol_hi3\tglycerol_med2\tglycerol_med3\tglycerol_rplN\tglycerol_rpmB\tglycerol_rpsB\tglycerol_rrnB\t"
     ]
    }
   ],
   "source": [
    "input_dir = \"../../experimental_data/data_dany/data_dany_output_20220614/\"\n",
    "# input_dir = \"../../experimental_data/data_dany/corr_tests/\"\n",
    "\n",
    "mk_missing_dir(os.path.join(input_dir, \"plots/correlations\"))\n",
    "\n",
    "corralations_filenames = get_input_files(input_dir, keyword=\"correlations\", ext=\".npz\")\n",
    "\n",
    "# # Filter if wanted\n",
    "# corralations_filenames = [cf for cf in corralations_filenames if not \"glucoseaa\" in cf]\n",
    "\n",
    "conditions = [\"acetate\", \"glycerol\", \"glucose\", \"glucoseaa\"]\n",
    "promoters = ['hi1', 'hi3', 'med2', 'med3', 'rrnB', 'rpsB', 'rpmB', 'rplN']\n",
    "\n",
    "corr_dict = {}\n",
    "gamma_lambdas = {}\n",
    "mean_lambdas = {}\n",
    "mean_qs = {}\n",
    "gamma_qs = {}\n",
    "mean_sq_conc = {}\n",
    "\n",
    "for cf in corralations_filenames:\n",
    "    data = np.load(cf, allow_pickle=True)\n",
    "\n",
    "    data_set_name = re.split('_f\\d', cf.split('/')[-1] )[0]\n",
    "    print(data_set_name, end=\"\\t\") \n",
    "\n",
    "    corr_dict[data_set_name] = Correlation_function(data['correlations'])\n",
    "    \n",
    "    # Collect relevant parameters \n",
    "    gamma_lambdas[data_set_name] = data['gamma_lambda']\n",
    "    mean_lambdas[data_set_name] = data['mean_lambda']\n",
    "    \n",
    "    gamma_qs[data_set_name] = data['gamma_q']\n",
    "    mean_qs[data_set_name] = data['mean_q']\n",
    "    \n",
    "    prediction_file = cf.replace(\"correlations.npz\", \"prediction.csv\")\n",
    "    cells = df2ggp_cells(pd.read_csv(prediction_file, skiprows=header_lines(prediction_file), \n",
    "                                 dtype={\"parent_id\":str, \"cell_id\":str}))\n",
    "    \n",
    "    mean_sq_conc[data_set_name] = mean_quantity(cells)**2\n",
    "    "
   ]
  },
  {
   "cell_type": "code",
   "execution_count": 4,
   "metadata": {},
   "outputs": [],
   "source": [
    "def sort_dict(indict, sort_key):\n",
    "    out = {}\n",
    "    for sk in sort_key:\n",
    "        for k in indict.keys():\n",
    "            if sk in k:\n",
    "                out[k] = indict[k]\n",
    "    return out"
   ]
  },
  {
   "cell_type": "code",
   "execution_count": 5,
   "metadata": {},
   "outputs": [
    {
     "name": "stdout",
     "output_type": "stream",
     "text": [
      "dict_keys(['acetate_hi1', 'acetate_hi3', 'acetate_med2', 'acetate_med3', 'acetate_rplN', 'acetate_rpmB', 'acetate_rpsB', 'acetate_rrnB', 'glycerol_hi1', 'glycerol_hi3', 'glycerol_med2', 'glycerol_med3', 'glycerol_rplN', 'glycerol_rpmB', 'glycerol_rpsB', 'glycerol_rrnB', 'glucose_hi1', 'glucose_hi3', 'glucose_med2', 'glucose_med3', 'glucose_rplN', 'glucose_rpmB', 'glucose_rpsB', 'glucose_rrnB'])\n"
     ]
    }
   ],
   "source": [
    "conditions_to_plot =  [\"acetate\", \"glycerol\", \"glucose_\", \"glucoseaa_\"]\n",
    "conditions_to_plot =  [\"acetate\", \"glycerol\", \"glucose_\"]\n",
    "corr_dict = sort_dict(corr_dict,conditions_to_plot)\n",
    "print(corr_dict.keys())\n",
    "gamma_lambdas = sort_dict(gamma_lambdas, conditions_to_plot)\n",
    "gamma_qs = sort_dict(gamma_qs, conditions_to_plot)\n",
    "mean_lambdas = sort_dict(mean_lambdas, conditions_to_plot)"
   ]
  },
  {
   "cell_type": "code",
   "execution_count": null,
   "metadata": {},
   "outputs": [],
   "source": []
  },
  {
   "cell_type": "code",
   "execution_count": 32,
   "metadata": {},
   "outputs": [],
   "source": []
  },
  {
   "cell_type": "markdown",
   "metadata": {},
   "source": [
    "### Growth rate by condition"
   ]
  },
  {
   "cell_type": "code",
   "execution_count": null,
   "metadata": {},
   "outputs": [],
   "source": []
  },
  {
   "cell_type": "code",
   "execution_count": null,
   "metadata": {},
   "outputs": [],
   "source": [
    "for condition in conditions:\n",
    "    plot_dir = os.path.join(input_dir, \"plots/correlations/\", condition ,\"{:s}_{:s}_{:s}_{:s}.pdf\")\n",
    "    \n",
    "#     plot_xy_correlation_list(get_filtered_values(corr_dict, condition), \n",
    "#                                 \"c(t+dt)\", \"c(t)\", \n",
    "#                                 plot_file=plot_dir.format(condition, \"corr\", \"c\", \"c\"), \n",
    "#                                 label=get_filtered_keys(corr_dict, condition), \n",
    "#                                 mean_lambda = get_filtered_values(mean_lambdas, condition),\n",
    "#                                 scale_t=True, \n",
    "# #                                 ylim=[-0.1, 1.1], \n",
    "#                                 xlim=[0, 7], \n",
    "#                                 err_style=\"fill\", \n",
    "#                                 log=False, \n",
    "#                                 min_joint_number=1)\n",
    "    \n",
    "#     plot_xy_correlation_list(get_filtered_values(corr_dict, condition), \n",
    "#                             \"l(t+dt)\", \"l(t)\", \n",
    "#                             plot_file=plot_dir.format(condition, \"corr\", \"l\", \"l\"), \n",
    "#                             label=get_filtered_keys(corr_dict, condition, keep=\"both\"), \n",
    "#                             gamma=get_filtered_values(gamma_lambdas, condition), \n",
    "#                             mean_lambda = get_filtered_values(mean_lambdas, condition),\n",
    "#                             ylabel=r\"Correlation $\\lambda(t+dt),\\lambda(t)$\",\n",
    "#                             scale_t=True, \n",
    "#                             ylim=[2e-2, 1.5], \n",
    "#                             xlim=[0, 2], \n",
    "#                             err_style=\"fill\", \n",
    "#                             log=True, \n",
    "#                             min_joint_number=1)\n",
    "    \n",
    "#     plot_xy_correlation_list(get_filtered_values(corr_dict, condition), \n",
    "#                             \"l(t+dt)\", \"l(t)\", \n",
    "#                             plot_file=plot_dir.format(condition, \"corr\", \"l\", \"l\"), \n",
    "#                             label=get_filtered_keys(corr_dict, condition, keep=\"both\"), \n",
    "#                             gamma=get_filtered_values(gamma_lambdas, condition), \n",
    "#                             mean_lambda = get_filtered_values(mean_lambdas, condition),\n",
    "#                             ylabel=r\"Correlation $\\lambda(t+dt),\\lambda(t)$\",\n",
    "#                             scale_t=True, \n",
    "#                             ylim=[2e-2, 1.5], \n",
    "#                             xlim=[0, 2], \n",
    "#                             err_style=\"fill\", \n",
    "#                             log=True, \n",
    "#                             min_joint_number=1, \n",
    "#                             legend=False, \n",
    "#                             color_by=\"promoter\")\n",
    "    \n",
    "    \n",
    "    plot_xy_correlation_list(get_filtered_values(corr_dict, condition), \n",
    "                            \"l(t+dt)\", \"l(t)\", \n",
    "                            plot_file=plot_dir.format(condition, \"cov\", \"l\", \"l\"), \n",
    "                            label=get_filtered_keys(corr_dict, condition, keep=\"both\"), \n",
    "                            gamma=get_filtered_values(gamma_lambdas, condition), \n",
    "                            mean_lambda = get_filtered_values(mean_lambdas, condition),\n",
    "                            normalize = get_filtered_values(mean_lambdas, condition)**2,\n",
    "                            ylabel=r\"Cov$(\\lambda,\\lambda)/\\bar{\\lambda}^2$\",\n",
    "                            scale_t=True, \n",
    "                            ylim=[1e-2, 0.2], \n",
    "                            xlim=[0, 1], \n",
    "                            err_style=\"fill\", \n",
    "                            log=True, \n",
    "                            min_joint_number=1, \n",
    "                            cov=True, \n",
    "                            legend=False, \n",
    "                            color_by=\"promoter\")\n",
    "    "
   ]
  },
  {
   "cell_type": "code",
   "execution_count": null,
   "metadata": {},
   "outputs": [],
   "source": []
  },
  {
   "cell_type": "code",
   "execution_count": null,
   "metadata": {},
   "outputs": [],
   "source": []
  },
  {
   "cell_type": "code",
   "execution_count": null,
   "metadata": {},
   "outputs": [],
   "source": []
  },
  {
   "cell_type": "code",
   "execution_count": null,
   "metadata": {},
   "outputs": [],
   "source": [
    "\n",
    "\n",
    "%load_ext autoreload\n",
    "%autoreload 2\n",
    "\n",
    "from plot_correlations_from_npz import *\n",
    "\n",
    "for promoter in promoters[:]:\n",
    "    mk_missing_dir( os.path.join(input_dir, \"plots/correlations/\"))\n",
    "    plot_dir = os.path.join(input_dir, \"plots/correlations/\", promoter ,\"{:s}_{:s}_{:s}_{:s}.pdf\")\n",
    "    mk_missing_dir( os.path.join(input_dir, \"plots/correlations/\", promoter))\n",
    "    \n",
    "    plot_xy_correlation_list(get_filtered_values(corr_dict, promoter), \n",
    "                            \"l(t+dt)\", \"l(t)\", \n",
    "                            plot_file=plot_dir.format(promoter, \"corr\", \"l\", \"l\"), \n",
    "                            label=get_filtered_keys(corr_dict, promoter, keep=\"condition\"), \n",
    "                            gamma=get_filtered_values(gamma_lambdas, promoter), \n",
    "                            mean_lambda = get_filtered_values(mean_lambdas, promoter),\n",
    "                            ylabel=r\"Correlation $\\lambda(t+dt),\\lambda(t)$\",\n",
    "                            scale_t=True, \n",
    "                            ylim=[2e-2, 1.5], \n",
    "                            xlim=[0, 2], \n",
    "                            err_style=\"fill\", \n",
    "                            log=True, \n",
    "                            min_joint_number=1)\n",
    "    \n",
    "    plot_xy_correlation_list(get_filtered_values(corr_dict, promoter), \n",
    "                            \"l(t+dt)\", \"l(t)\", \n",
    "                            plot_file=plot_dir.format(promoter, \"corr_real_time\", \"l\", \"l\"), \n",
    "                            label=get_filtered_keys(corr_dict, promoter, keep=\"condition\"), \n",
    "                            gamma=get_filtered_values(gamma_lambdas, promoter), \n",
    "                            mean_lambda = get_filtered_values(mean_lambdas, promoter),\n",
    "                            ylabel=r\"Correlation $\\lambda(t+dt),\\lambda(t)$\",\n",
    "                            scale_t=False, \n",
    "                            ylim=[0.01, 1], \n",
    "                            xlim=[0, 400], \n",
    "                            err_style=\"fill\", \n",
    "                            log=True, \n",
    "                            min_joint_number=2000)\n",
    "    \n",
    "    plot_xy_correlation_list(get_filtered_values(corr_dict, promoter), \n",
    "                            \"l(t+dt)\", \"l(t)\", \n",
    "                            plot_file=plot_dir.format(promoter, \"cov\", \"l\", \"l\"), \n",
    "                            label=get_filtered_keys(corr_dict, promoter, keep=\"condition\"), \n",
    "                            gamma=get_filtered_values(gamma_lambdas, promoter), \n",
    "                            mean_lambda = get_filtered_values(mean_lambdas, promoter),\n",
    "                            normalize = get_filtered_values(mean_lambdas, promoter)**2,\n",
    "                            ylabel=r\"Norm. covariance $\\lambda(t+dt),\\lambda(t)/\\bar{\\lambda}^2$\",\n",
    "                            scale_t=True, \n",
    "                            ylim=[1e-3, 0.2], \n",
    "                            xlim=[0, 2], \n",
    "                            err_style=\"fill\", \n",
    "                            log=True, \n",
    "                            min_joint_number=1, \n",
    "                            cov=True)\n",
    "    \n",
    "#     plot_xy_correlation_list(get_filtered_values(corr_dict, promoter), \n",
    "#                             \"l(t+dt)\", \"q(t)\", \n",
    "#                             plot_file=plot_dir.format(promoter, \"corr\", \"l\", \"q\"), \n",
    "#                             label=get_filtered_keys(corr_dict, promoter, keep=\"both\"), \n",
    "#                             mean_lambda = get_filtered_values(mean_lambdas, promoter),\n",
    "#                             ylabel=r\"Correlation $\\lambda(t+dt),q(t)$\",\n",
    "#                             scale_t=True, \n",
    "#                             ylim=[-0.25, 0.55], \n",
    "#                             xlim=[-2, 2], \n",
    "#                             err_style=\"fill\", \n",
    "# #                             log=True, \n",
    "#                             min_joint_number=1,\n",
    "#                             highlight_x0=True,\n",
    "#                             highlight_y0=True,)\n",
    "    \n",
    "    plot_xy_correlation_list(get_filtered_values(corr_dict, promoter), \n",
    "                            \"q(t+dt)\", \"l(t)\", \n",
    "                            plot_file=plot_dir.format(promoter, \"corr\", \"q\", \"l\"), \n",
    "                            label=get_filtered_keys(corr_dict, promoter, keep=\"both\"), \n",
    "                            mean_lambda = get_filtered_values(mean_lambdas, promoter),\n",
    "                            ylabel=r\"Correlation $q(t+dt),\\lambda(t)$\",\n",
    "                            scale_t=True, \n",
    "                            ylim=[-0.25, 0.75], \n",
    "                            xlim=[-2, 2], \n",
    "                            err_style=\"fill\", \n",
    "#                             log=True, \n",
    "                            min_joint_number=1,\n",
    "                            highlight_x0=True,\n",
    "                            highlight_y0=True,)\n",
    "    \n",
    "    plot_xy_correlation_list(get_filtered_values(corr_dict, promoter), \n",
    "                            \"q(t+dt)\", \"q(t)\", \n",
    "                            plot_file=plot_dir.format(promoter, \"corr\", \"q\", \"q\"), \n",
    "                            label=get_filtered_keys(corr_dict, promoter, keep=\"both\"), \n",
    "#                             gamma=get_filtered_values(gamma_qs, promoter), \n",
    "                            mean_lambda = get_filtered_values(mean_lambdas, promoter),\n",
    "                            ylabel=r\"Correlation $q(t+dt),q(t)$\",\n",
    "                            scale_t=True, \n",
    "#                             ylim=[1e-3, 1], \n",
    "                            xlim=[0, 2], \n",
    "                            err_style=\"fill\", \n",
    "#                             log=True, \n",
    "                            min_joint_number=1, \n",
    "                            highlight_x0=True)\n",
    "    \n",
    "#     plot_xy_correlation_list(get_filtered_values(corr_dict, promoter), \n",
    "#                             \"q(t+dt)\", \"q(t)\", \n",
    "#                             plot_file=plot_dir.format(promoter, \"corr_real_time\", \"q\", \"q\"), \n",
    "#                             label=get_filtered_keys(corr_dict, promoter, keep=\"both\"), \n",
    "# #                             gamma=get_filtered_values(gamma_qs, promoter), \n",
    "#                             mean_lambda = get_filtered_values(mean_lambdas, promoter),\n",
    "#                             ylabel=r\"Correlation $q(t+dt),q(t)$\",\n",
    "# #                             scale_t=True, \n",
    "# #                             ylim=[1e-3, 1], \n",
    "#                             xlim=[0, 200], \n",
    "#                             err_style=\"fill\", \n",
    "# #                             log=True, \n",
    "#                             min_joint_number=1, \n",
    "#                             highlight_x0=True)\n",
    "        \n",
    "    plot_xy_correlation_list(get_filtered_values(corr_dict, promoter), \n",
    "                            \"q(t+dt)\", \"q(t)\", \n",
    "                            plot_file=plot_dir.format(promoter, \"cov\", \"q\", \"q\"), \n",
    "                            label=get_filtered_keys(corr_dict, promoter, keep=\"both\"), \n",
    "#                             gamma=get_filtered_values(gamma_qs, promoter), \n",
    "                            mean_lambda = get_filtered_values(mean_lambdas, promoter),\n",
    "                             normalize = get_filtered_values(mean_qs, promoter)**2,\n",
    "                            ylabel=r\"Norm. covariance $q(t+dt),q(t) /\\bar{q}^2$\",\n",
    "                            scale_t=True, \n",
    "#                             ylim=[1e1, 1e4], \n",
    "                            xlim=[0, 2], \n",
    "                            err_style=\"fill\", \n",
    "                            log=False, \n",
    "                            min_joint_number=1, \n",
    "                            cov=True, \n",
    "                            highlight_x0=True)"
   ]
  },
  {
   "cell_type": "code",
   "execution_count": null,
   "metadata": {},
   "outputs": [],
   "source": []
  },
  {
   "cell_type": "markdown",
   "metadata": {},
   "source": [
    "## Tiles"
   ]
  },
  {
   "cell_type": "code",
   "execution_count": null,
   "metadata": {},
   "outputs": [],
   "source": [
    "for k in corr_dict.keys():  \n",
    "    plot_dir = os.path.join(input_dir, \"plots/correlations/\", \"tiles\" ,\"{:s}_{:s}_{:s}_{:s}.pdf\")\n",
    "    mk_missing_dir( os.path.join(input_dir, \"plots/correlations/\", \"tiles\"))\n",
    "    plot_correlation_tiles(corr_dict[k], \n",
    "                            gamma_lambda=gamma_lambdas[k], \n",
    "                            gamma_q=gamma_qs[k], \n",
    "                            min_joint_number=1500, \n",
    "                            xlim=[0,200],\n",
    "                            title=k, \n",
    "                            plot_file=plot_dir.format(\"corr\", k, \"tiles\", \"\"))"
   ]
  },
  {
   "cell_type": "code",
   "execution_count": null,
   "metadata": {},
   "outputs": [],
   "source": [
    "plot_xy_correlation(corr_dict[\"acetate_hi1\"], \"c(t+dt)\", \"c(t)\", ylim=[-0.2, 1], xlim=[0, 1500], \n",
    "                mean_lambda=mean_lambdas[\"acetate_hi1\"])\n"
   ]
  },
  {
   "cell_type": "code",
   "execution_count": null,
   "metadata": {},
   "outputs": [],
   "source": []
  },
  {
   "cell_type": "code",
   "execution_count": null,
   "metadata": {},
   "outputs": [],
   "source": [
    "dts = np.arange(0, 4, 0.2)\n",
    "\n",
    "filter = np.where(dts>0.5, True, False) *  np.where(dts<1.5, True, False)\n",
    "\n",
    "dts[filter]"
   ]
  },
  {
   "cell_type": "code",
   "execution_count": null,
   "metadata": {},
   "outputs": [],
   "source": []
  }
 ],
 "metadata": {
  "interpreter": {
   "hash": "e534e48711db4d1e1c48977d0d14ff85b1f16d41bcc4fdfd88268a329b3c9d66"
  },
  "kernelspec": {
   "display_name": "Python 3",
   "language": "python",
   "name": "python3"
  },
  "language_info": {
   "codemirror_mode": {
    "name": "ipython",
    "version": 3
   },
   "file_extension": ".py",
   "mimetype": "text/x-python",
   "name": "python",
   "nbconvert_exporter": "python",
   "pygments_lexer": "ipython3",
   "version": "3.7.2"
  }
 },
 "nbformat": 4,
 "nbformat_minor": 4
}
