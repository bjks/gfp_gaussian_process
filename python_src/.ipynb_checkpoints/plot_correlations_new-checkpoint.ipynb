{
 "cells": [
  {
   "cell_type": "markdown",
   "metadata": {},
   "source": [
    "# Plot correlation function\n",
    "This notebook is based on `correlation_function.py` that will produce the `.npz` file that is used here"
   ]
  },
  {
   "cell_type": "code",
   "execution_count": 126,
   "metadata": {},
   "outputs": [
    {
     "name": "stdout",
     "output_type": "stream",
     "text": [
      "The autoreload extension is already loaded. To reload it, use:\n",
      "  %reload_ext autoreload\n"
     ]
    }
   ],
   "source": [
    "%load_ext autoreload\n",
    "%autoreload 2\n",
    "\n",
    "from plot_correlations_from_npz import *\n",
    "%config InlineBackend.figure_format ='retina'\n"
   ]
  },
  {
   "cell_type": "markdown",
   "metadata": {},
   "source": [
    "### Reading files"
   ]
  },
  {
   "cell_type": "code",
   "execution_count": 130,
   "metadata": {},
   "outputs": [
    {
     "name": "stdout",
     "output_type": "stream",
     "text": [
      "The autoreload extension is already loaded. To reload it, use:\n",
      "  %reload_ext autoreload\n"
     ]
    }
   ],
   "source": [
    "%load_ext autoreload\n",
    "%autoreload 2\n",
    "\n",
    "from plot_correlations_from_npz import *\n",
    "%config InlineBackend.figure_format ='retina'\n",
    "\n",
    "input_dir = \"../../experimental_data/data_dany/data_dany_hi1_output_202201011/\"\n",
    "# input_dir = \"../../experimental_data/data_dany/corr_tests/\"\n",
    "\n",
    "mk_missing_dir(os.path.join(input_dir, \"plots\"))\n",
    "\n",
    "mk_missing_dir(os.path.join(input_dir, \"plots/correlations\"))\n",
    "\n",
    "\n",
    "corralations_filenames = get_input_files(input_dir, keyword=\"correlations\", ext=\".npz\")\n",
    "\n",
    "# # Filter if wanted\n",
    "# corralations_filenames = [cf for cf in corralations_filenames if not \"glucoseaa\" in cf]\n",
    "\n",
    "conditions = [\"acetate\", \"glycerol\", \"glucose\", \"glucoseaa\"]\n",
    "promoters = ['hi1', 'hi3', 'med2', 'med3', 'rrnB', 'rpsB', 'rpmB', 'rplN']\n",
    "\n",
    "corr_dict = {}\n",
    "gamma_lambdas = {}\n",
    "mean_lambdas = {}\n",
    "mean_qs = {}\n",
    "gamma_qs = {}\n",
    "mean_sq_conc = {}\n",
    "\n",
    "for cf in corralations_filenames:\n",
    "    data = np.load(cf, allow_pickle=True)\n",
    "\n",
    "    data_set_name = re.split('_f\\d', cf.split('/')[-1] )[0]\n",
    "#     print(data_set_name, end=\"\\t\") \n",
    "\n",
    "    corr_dict[data_set_name] = Correlation_function(data['correlations'])\n",
    "    \n",
    "    # Collect relevant parameters \n",
    "    gamma_lambdas[data_set_name] = data['gamma_lambda']\n",
    "    mean_lambdas[data_set_name] = data['mean_lambda']\n",
    "    \n",
    "    gamma_qs[data_set_name] = data['gamma_q']\n",
    "    mean_qs[data_set_name] = data['mean_q']\n",
    "    \n",
    "    prediction_file = cf.replace(\"correlations.npz\", \"prediction.csv\")\n",
    "    cells = df2ggp_cells(pd.read_csv(prediction_file, skiprows=header_lines(prediction_file), \n",
    "                                 dtype={\"parent_id\":str, \"cell_id\":str}))\n",
    "    \n",
    "    mean_sq_conc[data_set_name] = mean_quantity(cells)**2\n",
    "    \n",
    "corr_dict = sort_dict(corr_dict, [\"acetate\", \"glycerol\", \"glucose\", \"glucoseaa\"])\n",
    "gamma_lambdas = sort_dict(gamma_lambdas, [\"acetate\", \"glycerol\", \"glucose\", \"glucoseaa\"])\n",
    "gamma_qs = sort_dict(gamma_qs, [\"acetate\", \"glycerol\", \"glucose\", \"glucoseaa\"])\n",
    "mean_lambdas = sort_dict(mean_lambdas, [\"acetate\", \"glycerol\", \"glucose\", \"glucoseaa\"])\n"
   ]
  },
  {
   "cell_type": "markdown",
   "metadata": {},
   "source": [
    "### Growth rate by condition"
   ]
  },
  {
   "cell_type": "code",
   "execution_count": 131,
   "metadata": {},
   "outputs": [],
   "source": [
    "\n",
    "\n",
    "# for promoter in promoters[:1]:\n",
    "#     plot_dir = os.path.join(input_dir, \"plots/correlations/\", promoter ,\"{:s}_{:s}_{:s}_{:s}.pdf\")\n",
    "#     mk_missing_dir( os.path.join(input_dir, \"plots/correlations/\", promoter))\n",
    "    \n",
    "#     plot_xy_correlation_list(get_filtered_values(corr_dict, promoter), \n",
    "#                                 \"c(t+dt)\", \"c(t)\", \n",
    "#                                 plot_file=plot_dir.format(promoter, \"corr\", \"c\", \"c\"), \n",
    "#                                 label=get_filtered_keys(corr_dict, promoter), \n",
    "#                                 mean_lambda = get_filtered_values(mean_lambdas, promoter),\n",
    "#                                 scale_t=True, \n",
    "# #                                 ylim=[-0.1, 1.1], \n",
    "#                                 xlim=[0, 7], \n",
    "#                                 err_style=\"fill\", \n",
    "#                                 log=False, \n",
    "#                                 min_joint_number=1)"
   ]
  },
  {
   "cell_type": "code",
   "execution_count": 141,
   "metadata": {},
   "outputs": [
    {
     "name": "stdout",
     "output_type": "stream",
     "text": [
      "The autoreload extension is already loaded. To reload it, use:\n",
      "  %reload_ext autoreload\n",
      "Saved in ../../experimental_data/data_dany/data_dany_hi1_output_202201011/plots/correlations/hi1/hi1_corr_l_l.pdf\n",
      "Saved in ../../experimental_data/data_dany/data_dany_hi1_output_202201011/plots/correlations/hi1/hi1_corr_real_time_l_l.pdf\n",
      "Saved in ../../experimental_data/data_dany/data_dany_hi1_output_202201011/plots/correlations/hi1/hi1_cov_l_l.pdf\n",
      "Saved in ../../experimental_data/data_dany/data_dany_hi1_output_202201011/plots/correlations/hi1/hi1_corr_l_q.pdf\n",
      "Saved in ../../experimental_data/data_dany/data_dany_hi1_output_202201011/plots/correlations/hi1/hi1_corr_q_l.pdf\n",
      "Saved in ../../experimental_data/data_dany/data_dany_hi1_output_202201011/plots/correlations/hi1/hi1_corr_q_q.pdf\n",
      "Saved in ../../experimental_data/data_dany/data_dany_hi1_output_202201011/plots/correlations/hi1/hi1_corr_real_time_q_q.pdf\n",
      "Saved in ../../experimental_data/data_dany/data_dany_hi1_output_202201011/plots/correlations/hi1/hi1_cov_q_q.pdf\n"
     ]
    }
   ],
   "source": [
    "%load_ext autoreload\n",
    "%autoreload 2\n",
    "\n",
    "from plot_correlations_from_npz import *\n",
    "\n",
    "for promoter in promoters[:1]:\n",
    "    plot_dir = os.path.join(input_dir, \"plots/correlations/\", promoter ,\"{:s}_{:s}_{:s}_{:s}.pdf\")\n",
    "    mk_missing_dir( os.path.join(input_dir, \"plots/correlations/\", promoter))\n",
    "    \n",
    "    plot_xy_correlation_list(get_filtered_values(corr_dict, promoter), \n",
    "                            \"l(t+dt)\", \"l(t)\", \n",
    "                            plot_file=plot_dir.format(promoter, \"corr\", \"l\", \"l\"), \n",
    "                            label=get_filtered_keys(corr_dict, promoter, keep=\"condition\"), \n",
    "                            gamma=get_filtered_values(gamma_lambdas, promoter), \n",
    "                            mean_lambda = get_filtered_values(mean_lambdas, promoter),\n",
    "                            ylabel=r\"Correlation $\\lambda(t+dt),\\lambda(t)$\",\n",
    "                            scale_t=True, \n",
    "                            ylim=[2e-2, 1.5], \n",
    "                            xlim=[0, 2], \n",
    "                            err_style=\"fill\", \n",
    "                            log=True, \n",
    "                            min_joint_number=1)\n",
    "    \n",
    "    plot_xy_correlation_list(get_filtered_values(corr_dict, promoter), \n",
    "                            \"l(t+dt)\", \"l(t)\", \n",
    "                            plot_file=plot_dir.format(promoter, \"corr_real_time\", \"l\", \"l\"), \n",
    "                            label=get_filtered_keys(corr_dict, promoter, keep=\"condition\"), \n",
    "                            gamma=get_filtered_values(gamma_lambdas, promoter), \n",
    "                            mean_lambda = get_filtered_values(mean_lambdas, promoter),\n",
    "                            ylabel=r\"Correlation $\\lambda(t+dt),\\lambda(t)$\",\n",
    "                            scale_t=False, \n",
    "                            ylim=[0.01, 1], \n",
    "                            xlim=[0, 200], \n",
    "                            err_style=\"fill\", \n",
    "                            log=True, \n",
    "                            min_joint_number=2000)\n",
    "    \n",
    "    plot_xy_correlation_list(get_filtered_values(corr_dict, promoter), \n",
    "                            \"l(t+dt)\", \"l(t)\", \n",
    "                            plot_file=plot_dir.format(promoter, \"cov\", \"l\", \"l\"), \n",
    "                            label=get_filtered_keys(corr_dict, promoter, keep=\"condition\"), \n",
    "                            gamma=get_filtered_values(gamma_lambdas, promoter), \n",
    "                            mean_lambda = get_filtered_values(mean_lambdas, promoter),\n",
    "                            normalize = get_filtered_values(mean_lambdas, promoter)**2,\n",
    "                            ylabel=r\"Norm. covariance $\\lambda(t+dt),\\lambda(t)/\\bar{\\lambda}^2$\",\n",
    "                            scale_t=True, \n",
    "                            ylim=[1e-3, 0.2], \n",
    "                            xlim=[0, 2], \n",
    "                            err_style=\"fill\", \n",
    "                            log=True, \n",
    "                            min_joint_number=1, \n",
    "                            cov=True)\n",
    "    \n",
    "    plot_xy_correlation_list(get_filtered_values(corr_dict, promoter), \n",
    "                            \"l(t+dt)\", \"q(t)\", \n",
    "                            plot_file=plot_dir.format(promoter, \"corr\", \"l\", \"q\"), \n",
    "                            label=get_filtered_keys(corr_dict, promoter, keep=\"both\"), \n",
    "                            mean_lambda = get_filtered_values(mean_lambdas, promoter),\n",
    "                            ylabel=r\"Correlation $\\lambda(t+dt),q(t)$\",\n",
    "                            scale_t=True, \n",
    "                            ylim=[-0.25, 0.55], \n",
    "                            xlim=[-2, 2], \n",
    "                            err_style=\"fill\", \n",
    "#                             log=True, \n",
    "                            min_joint_number=1,\n",
    "                            highlight_x0=True,\n",
    "                            highlight_y0=True,)\n",
    "    \n",
    "    plot_xy_correlation_list(get_filtered_values(corr_dict, promoter), \n",
    "                            \"q(t+dt)\", \"l(t)\", \n",
    "                            plot_file=plot_dir.format(promoter, \"corr\", \"q\", \"l\"), \n",
    "                            label=get_filtered_keys(corr_dict, promoter, keep=\"both\"), \n",
    "                            mean_lambda = get_filtered_values(mean_lambdas, promoter),\n",
    "                            ylabel=r\"Correlation $q(t+dt),\\lambda(t)$\",\n",
    "                            scale_t=True, \n",
    "                            ylim=[-0.25, 0.55], \n",
    "                            xlim=[-2, 2], \n",
    "                            err_style=\"fill\", \n",
    "#                             log=True, \n",
    "                            min_joint_number=1,\n",
    "                            highlight_x0=True,\n",
    "                            highlight_y0=True,)\n",
    "    \n",
    "    plot_xy_correlation_list(get_filtered_values(corr_dict, promoter), \n",
    "                            \"q(t+dt)\", \"q(t)\", \n",
    "                            plot_file=plot_dir.format(promoter, \"corr\", \"q\", \"q\"), \n",
    "                            label=get_filtered_keys(corr_dict, promoter, keep=\"both\"), \n",
    "#                             gamma=get_filtered_values(gamma_qs, promoter), \n",
    "                            mean_lambda = get_filtered_values(mean_lambdas, promoter),\n",
    "                            ylabel=r\"Correlation $q(t+dt),q(t)$\",\n",
    "                            scale_t=True, \n",
    "#                             ylim=[1e-3, 1], \n",
    "                            xlim=[0, 2], \n",
    "                            err_style=\"fill\", \n",
    "#                             log=True, \n",
    "                            min_joint_number=1, \n",
    "                            highlight_x0=True)\n",
    "    \n",
    "    plot_xy_correlation_list(get_filtered_values(corr_dict, promoter), \n",
    "                            \"q(t+dt)\", \"q(t)\", \n",
    "                            plot_file=plot_dir.format(promoter, \"corr_real_time\", \"q\", \"q\"), \n",
    "                            label=get_filtered_keys(corr_dict, promoter, keep=\"both\"), \n",
    "#                             gamma=get_filtered_values(gamma_qs, promoter), \n",
    "                            mean_lambda = get_filtered_values(mean_lambdas, promoter),\n",
    "                            ylabel=r\"Correlation $q(t+dt),q(t)$\",\n",
    "#                             scale_t=True, \n",
    "#                             ylim=[1e-3, 1], \n",
    "                            xlim=[0, 200], \n",
    "                            err_style=\"fill\", \n",
    "#                             log=True, \n",
    "                            min_joint_number=1, \n",
    "                            highlight_x0=True)\n",
    "        \n",
    "    plot_xy_correlation_list(get_filtered_values(corr_dict, promoter), \n",
    "                            \"q(t+dt)\", \"q(t)\", \n",
    "                            plot_file=plot_dir.format(promoter, \"cov\", \"q\", \"q\"), \n",
    "                            label=get_filtered_keys(corr_dict, promoter, keep=\"both\"), \n",
    "#                             gamma=get_filtered_values(gamma_qs, promoter), \n",
    "                            mean_lambda = get_filtered_values(mean_lambdas, promoter),\n",
    "                             normalize = get_filtered_values(mean_qs, promoter)**2,\n",
    "                            ylabel=r\"Norm. covariance $q(t+dt),q(t) /\\bar{q}^2$\",\n",
    "                            scale_t=True, \n",
    "#                             ylim=[1e1, 1e4], \n",
    "                            xlim=[0, 2], \n",
    "                            err_style=\"fill\", \n",
    "                            log=True, \n",
    "                            min_joint_number=1, \n",
    "                            cov=True, \n",
    "                            highlight_x0=True)"
   ]
  },
  {
   "cell_type": "code",
   "execution_count": 125,
   "metadata": {},
   "outputs": [
    {
     "data": {
      "text/plain": [
       "((3, 8, 8), array([[ 72,  37,  38,  39,   4,  12,  20,  28],\n",
       "        [ 37,  90,  46,  47,   5,  13,  21,  29],\n",
       "        [ 38,  46, 108,  55,   6,  14,  22,  30],\n",
       "        [ 39,  47,  55, 126,   7,  15,  23,  31],\n",
       "        [  4,   5,   6,   7,   0,   1,   2,   3],\n",
       "        [ 12,  13,  14,  15,   1,  18,  10,  11],\n",
       "        [ 20,  21,  22,  23,   2,  10,  36,  19],\n",
       "        [ 28,  29,  30,  31,   3,  11,  19,  54]]))"
      ]
     },
     "execution_count": 125,
     "metadata": {},
     "output_type": "execute_result"
    }
   ],
   "source": [
    "def flips_zn_zm(x):\n",
    "    return np.roll(x, 4, axis=(1,2))\n",
    "\n",
    "    \n",
    "\n",
    "    \n",
    "    \n",
    "x = np.arange(64).reshape(8,8)\n",
    "x = [np.triu(x) + np.triu(x).T for i in range(3)]\n",
    "np.shape(x), flips_zn_zm(x)\n"
   ]
  },
  {
   "cell_type": "code",
   "execution_count": 97,
   "metadata": {},
   "outputs": [
    {
     "ename": "ValueError",
     "evalue": "'x' and 'y' must have the same size",
     "output_type": "error",
     "traceback": [
      "\u001b[0;31m---------------------------------------------------------------------------\u001b[0m",
      "\u001b[0;31mValueError\u001b[0m                                Traceback (most recent call last)",
      "\u001b[0;32m<ipython-input-97-0da0b2e93fbf>\u001b[0m in \u001b[0;36m<module>\u001b[0;34m\u001b[0m\n\u001b[1;32m      1\u001b[0m \u001b[0;32mfor\u001b[0m \u001b[0mkey\u001b[0m \u001b[0;32min\u001b[0m \u001b[0mcorr_dict\u001b[0m\u001b[0;34m.\u001b[0m\u001b[0mkeys\u001b[0m\u001b[0;34m(\u001b[0m\u001b[0;34m)\u001b[0m\u001b[0;34m:\u001b[0m\u001b[0;34m\u001b[0m\u001b[0;34m\u001b[0m\u001b[0m\n\u001b[0;32m----> 2\u001b[0;31m     \u001b[0mplot_xy_correlation\u001b[0m\u001b[0;34m(\u001b[0m\u001b[0mcorr_dict\u001b[0m\u001b[0;34m[\u001b[0m\u001b[0mkey\u001b[0m\u001b[0;34m]\u001b[0m\u001b[0;34m,\u001b[0m \u001b[0;34m\"c(t+dt)\"\u001b[0m\u001b[0;34m,\u001b[0m \u001b[0;34m\"c(t)\"\u001b[0m\u001b[0;34m,\u001b[0m \u001b[0mtitle\u001b[0m\u001b[0;34m=\u001b[0m\u001b[0mkey\u001b[0m\u001b[0;34m,\u001b[0m \u001b[0mmin_joint_number\u001b[0m\u001b[0;34m=\u001b[0m\u001b[0;36m2\u001b[0m\u001b[0;34m)\u001b[0m\u001b[0;34m\u001b[0m\u001b[0;34m\u001b[0m\u001b[0m\n\u001b[0m",
      "\u001b[0;32m~/mother_machine/gfp_gaussian_process/python_src/plot_correlations_from_npz.py\u001b[0m in \u001b[0;36mplot_xy_correlation\u001b[0;34m(corr_func, x, y, gamma, mean_lambda, plot_file, title, xlim, ylim, min_joint_number)\u001b[0m\n\u001b[1;32m    378\u001b[0m     \u001b[0my_label\u001b[0m \u001b[0;34m=\u001b[0m \u001b[0my\u001b[0m\u001b[0;34m.\u001b[0m\u001b[0mreplace\u001b[0m\u001b[0;34m(\u001b[0m\u001b[0;34m\"l\"\u001b[0m\u001b[0;34m,\u001b[0m \u001b[0;34m\"\\lambda\"\u001b[0m\u001b[0;34m)\u001b[0m\u001b[0;34m\u001b[0m\u001b[0;34m\u001b[0m\u001b[0m\n\u001b[1;32m    379\u001b[0m \u001b[0;34m\u001b[0m\u001b[0m\n\u001b[0;32m--> 380\u001b[0;31m     \u001b[0max0\u001b[0m\u001b[0;34m.\u001b[0m\u001b[0merrorbar\u001b[0m\u001b[0;34m(\u001b[0m\u001b[0mdts\u001b[0m\u001b[0;34m,\u001b[0m \u001b[0mrs\u001b[0m\u001b[0;34m,\u001b[0m \u001b[0myerr\u001b[0m\u001b[0;34m=\u001b[0m\u001b[0merrs\u001b[0m\u001b[0;34m,\u001b[0m \u001b[0mlabel\u001b[0m\u001b[0;34m=\u001b[0m\u001b[0;34mr\"mle $\\langle {:s}, {:s}\\rangle$\"\u001b[0m\u001b[0;34m.\u001b[0m\u001b[0mformat\u001b[0m\u001b[0;34m(\u001b[0m\u001b[0mx_label\u001b[0m\u001b[0;34m,\u001b[0m\u001b[0my_label\u001b[0m\u001b[0;34m)\u001b[0m\u001b[0;34m,\u001b[0m \u001b[0mlw\u001b[0m\u001b[0;34m=\u001b[0m\u001b[0;36m2\u001b[0m\u001b[0;34m,\u001b[0m \u001b[0mcolor\u001b[0m\u001b[0;34m=\u001b[0m\u001b[0;34m\"tab:blue\"\u001b[0m\u001b[0;34m)\u001b[0m\u001b[0;34m\u001b[0m\u001b[0;34m\u001b[0m\u001b[0m\n\u001b[0m\u001b[1;32m    381\u001b[0m     \u001b[0max0\u001b[0m\u001b[0;34m.\u001b[0m\u001b[0mplot\u001b[0m\u001b[0;34m(\u001b[0m\u001b[0mdts\u001b[0m\u001b[0;34m,\u001b[0m \u001b[0mcorr_naive\u001b[0m\u001b[0;34m,\u001b[0m \u001b[0mlabel\u001b[0m\u001b[0;34m=\u001b[0m\u001b[0;34mr\"naive $\\langle {:s}, {:s}\\rangle$\"\u001b[0m\u001b[0;34m.\u001b[0m\u001b[0mformat\u001b[0m\u001b[0;34m(\u001b[0m\u001b[0mx_label\u001b[0m\u001b[0;34m,\u001b[0m\u001b[0my_label\u001b[0m\u001b[0;34m)\u001b[0m\u001b[0;34m,\u001b[0m \u001b[0mlw\u001b[0m\u001b[0;34m=\u001b[0m\u001b[0;36m2\u001b[0m\u001b[0;34m,\u001b[0m \u001b[0mcolor\u001b[0m\u001b[0;34m=\u001b[0m\u001b[0;34m\"tab:green\"\u001b[0m\u001b[0;34m)\u001b[0m\u001b[0;34m\u001b[0m\u001b[0;34m\u001b[0m\u001b[0m\n\u001b[1;32m    382\u001b[0m \u001b[0;34m\u001b[0m\u001b[0m\n",
      "\u001b[0;32m/Library/Frameworks/Python.framework/Versions/3.7/lib/python3.7/site-packages/matplotlib/__init__.py\u001b[0m in \u001b[0;36minner\u001b[0;34m(ax, data, *args, **kwargs)\u001b[0m\n\u001b[1;32m   1436\u001b[0m     \u001b[0;32mdef\u001b[0m \u001b[0minner\u001b[0m\u001b[0;34m(\u001b[0m\u001b[0max\u001b[0m\u001b[0;34m,\u001b[0m \u001b[0;34m*\u001b[0m\u001b[0margs\u001b[0m\u001b[0;34m,\u001b[0m \u001b[0mdata\u001b[0m\u001b[0;34m=\u001b[0m\u001b[0;32mNone\u001b[0m\u001b[0;34m,\u001b[0m \u001b[0;34m**\u001b[0m\u001b[0mkwargs\u001b[0m\u001b[0;34m)\u001b[0m\u001b[0;34m:\u001b[0m\u001b[0;34m\u001b[0m\u001b[0;34m\u001b[0m\u001b[0m\n\u001b[1;32m   1437\u001b[0m         \u001b[0;32mif\u001b[0m \u001b[0mdata\u001b[0m \u001b[0;32mis\u001b[0m \u001b[0;32mNone\u001b[0m\u001b[0;34m:\u001b[0m\u001b[0;34m\u001b[0m\u001b[0;34m\u001b[0m\u001b[0m\n\u001b[0;32m-> 1438\u001b[0;31m             \u001b[0;32mreturn\u001b[0m \u001b[0mfunc\u001b[0m\u001b[0;34m(\u001b[0m\u001b[0max\u001b[0m\u001b[0;34m,\u001b[0m \u001b[0;34m*\u001b[0m\u001b[0mmap\u001b[0m\u001b[0;34m(\u001b[0m\u001b[0msanitize_sequence\u001b[0m\u001b[0;34m,\u001b[0m \u001b[0margs\u001b[0m\u001b[0;34m)\u001b[0m\u001b[0;34m,\u001b[0m \u001b[0;34m**\u001b[0m\u001b[0mkwargs\u001b[0m\u001b[0;34m)\u001b[0m\u001b[0;34m\u001b[0m\u001b[0;34m\u001b[0m\u001b[0m\n\u001b[0m\u001b[1;32m   1439\u001b[0m \u001b[0;34m\u001b[0m\u001b[0m\n\u001b[1;32m   1440\u001b[0m         \u001b[0mbound\u001b[0m \u001b[0;34m=\u001b[0m \u001b[0mnew_sig\u001b[0m\u001b[0;34m.\u001b[0m\u001b[0mbind\u001b[0m\u001b[0;34m(\u001b[0m\u001b[0max\u001b[0m\u001b[0;34m,\u001b[0m \u001b[0;34m*\u001b[0m\u001b[0margs\u001b[0m\u001b[0;34m,\u001b[0m \u001b[0;34m**\u001b[0m\u001b[0mkwargs\u001b[0m\u001b[0;34m)\u001b[0m\u001b[0;34m\u001b[0m\u001b[0;34m\u001b[0m\u001b[0m\n",
      "\u001b[0;32m/Library/Frameworks/Python.framework/Versions/3.7/lib/python3.7/site-packages/matplotlib/axes/_axes.py\u001b[0m in \u001b[0;36merrorbar\u001b[0;34m(self, x, y, yerr, xerr, fmt, ecolor, elinewidth, capsize, barsabove, lolims, uplims, xlolims, xuplims, errorevery, capthick, **kwargs)\u001b[0m\n\u001b[1;32m   3296\u001b[0m \u001b[0;34m\u001b[0m\u001b[0m\n\u001b[1;32m   3297\u001b[0m         \u001b[0;32mif\u001b[0m \u001b[0mlen\u001b[0m\u001b[0;34m(\u001b[0m\u001b[0mx\u001b[0m\u001b[0;34m)\u001b[0m \u001b[0;34m!=\u001b[0m \u001b[0mlen\u001b[0m\u001b[0;34m(\u001b[0m\u001b[0my\u001b[0m\u001b[0;34m)\u001b[0m\u001b[0;34m:\u001b[0m\u001b[0;34m\u001b[0m\u001b[0;34m\u001b[0m\u001b[0m\n\u001b[0;32m-> 3298\u001b[0;31m             \u001b[0;32mraise\u001b[0m \u001b[0mValueError\u001b[0m\u001b[0;34m(\u001b[0m\u001b[0;34m\"'x' and 'y' must have the same size\"\u001b[0m\u001b[0;34m)\u001b[0m\u001b[0;34m\u001b[0m\u001b[0;34m\u001b[0m\u001b[0m\n\u001b[0m\u001b[1;32m   3299\u001b[0m \u001b[0;34m\u001b[0m\u001b[0m\n\u001b[1;32m   3300\u001b[0m         \u001b[0;32mif\u001b[0m \u001b[0mxerr\u001b[0m \u001b[0;32mis\u001b[0m \u001b[0;32mnot\u001b[0m \u001b[0;32mNone\u001b[0m\u001b[0;34m:\u001b[0m\u001b[0;34m\u001b[0m\u001b[0;34m\u001b[0m\u001b[0m\n",
      "\u001b[0;31mValueError\u001b[0m: 'x' and 'y' must have the same size"
     ]
    },
    {
     "data": {
      "image/png": "[encoded data removed]",
      "text/plain": [
       "<Figure size 576x288 with 1 Axes>"
      ]
     },
     "metadata": {
      "image/png": {
       "height": 272,
       "width": 506
      },
      "needs_background": "light"
     },
     "output_type": "display_data"
    }
   ],
   "source": [
    "\n",
    "for key in corr_dict.keys():\n",
    "    plot_xy_correlation(corr_dict[key], \"c(t+dt)\", \"c(t)\", title=key, min_joint_number=2)\n"
   ]
  },
  {
   "cell_type": "code",
   "execution_count": null,
   "metadata": {},
   "outputs": [],
   "source": []
  }
 ],
 "metadata": {
  "interpreter": {
   "hash": "e534e48711db4d1e1c48977d0d14ff85b1f16d41bcc4fdfd88268a329b3c9d66"
  },
  "kernelspec": {
   "display_name": "Python 3",
   "language": "python",
   "name": "python3"
  },
  "language_info": {
   "codemirror_mode": {
    "name": "ipython",
    "version": 3
   },
   "file_extension": ".py",
   "mimetype": "text/x-python",
   "name": "python",
   "nbconvert_exporter": "python",
   "pygments_lexer": "ipython3",
   "version": "3.7.2"
  }
 },
 "nbformat": 4,
 "nbformat_minor": 4
}
