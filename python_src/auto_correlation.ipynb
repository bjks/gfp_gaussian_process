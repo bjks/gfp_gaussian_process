{
 "cells": [
  {
   "cell_type": "code",
   "execution_count": 165,
   "source": [
    "import numpy as np \n",
    "import pandas as pd \n",
    "import matplotlib.pyplot as plt\n",
    "import matplotlib as mpl\n",
    "import argparse\n",
    "\n",
    "\n",
    "class Cell:\n",
    "    def __init__(self, cell_id, parent_id):\n",
    "        self.parent_id = parent_id\n",
    "        self.cell_id = cell_id\n",
    "\n",
    "        self.time = []\n",
    "        self.number_of_joints = []\n",
    "        self.line = []\n",
    "        self.joints = []\n",
    "\n",
    "class Gaussian:\n",
    "    def __init__(self, vec):\n",
    "        self.m = vec[:8]\n",
    "        cov_vec = vec[8:]\n",
    "        self.C = [ cov_vec[np.sum( np.arange(i+1,9) ): np.sum( np.arange(i,9))]  for i in np.arange(1,9)[::-1]]\n",
    "\n",
    "def file2cells(filename):\n",
    "\n",
    "    len_mean = 8\n",
    "    len_cov = 36\n",
    "    len_gaussian = len_mean+len_cov\n",
    "\n",
    "    cell_list = []\n",
    "    last_cell = \"\"\n",
    "    skip = True\n",
    "    with open(filename,'r') as fin:\n",
    "        for i, line in enumerate(fin):\n",
    "            if not skip:\n",
    "                line_splitted = line.strip('\\n').split(',')\n",
    "                if line_splitted[0] != last_cell:\n",
    "                    new_cell = Cell(line_splitted[0], line_splitted[1])\n",
    "                    cell_list.append(new_cell)\n",
    "                cell_list[-1].time.append(line_splitted[2])\n",
    "                cell_list[-1].number_of_joints.append( int((len(line_splitted)-3)/(len_gaussian)) ) \n",
    "                joints_vecs =  np.reshape(line_splitted[3:], (-1,len_gaussian) )\n",
    "                cell_list[-1].joints.append( [Gaussian(joints_vec) for joints_vec in joints_vecs] )\n",
    "\n",
    "                last_cell = line_splitted[0]\n",
    "            if i >20:\n",
    "                break\n",
    "            if line.startswith('cell_id,'):\n",
    "                skip = False\n",
    "    return cell_list\n",
    "\n",
    "\n",
    "# def main():\n",
    "#     parser = argparse.ArgumentParser(\n",
    "#         description='Generate new parameter file from iteration file OR and final file of a gfp_gaussian run')\n",
    "\n",
    "#     parser.add_argument('--i',\n",
    "#                         dest='infile',\n",
    "#                         help='input file, iteration file from gfp_gaussian run',\n",
    "#                         required=True)\n",
    "    \n",
    "\n",
    "\n",
    "# # ================================================================================ #\n",
    "# if __name__ == \"__main__\":\n",
    "#     main()"
   ],
   "outputs": [],
   "metadata": {}
  },
  {
   "cell_type": "code",
   "execution_count": 166,
   "source": [
    "cells = file2cells('../data_2.0/segments_200_sizer/segments_200_sizer_0/segment1_out/segment1_f012345678910_b_joints.csv')"
   ],
   "outputs": [],
   "metadata": {}
  },
  {
   "cell_type": "code",
   "execution_count": 171,
   "source": [
    "cells[0].joints[0][1].m"
   ],
   "outputs": [
    {
     "output_type": "execute_result",
     "data": {
      "text/plain": [
       "array(['1.44638', '6593.78', '0.00160802', '14.3848', '1.43379',\n",
       "       '6141.65', '0.00109923', '12.988'], dtype='<U12')"
      ]
     },
     "metadata": {},
     "execution_count": 171
    }
   ],
   "metadata": {}
  },
  {
   "cell_type": "code",
   "execution_count": null,
   "source": [],
   "outputs": [],
   "metadata": {}
  }
 ],
 "metadata": {
  "orig_nbformat": 4,
  "language_info": {
   "name": "python",
   "version": "3.7.2",
   "mimetype": "text/x-python",
   "codemirror_mode": {
    "name": "ipython",
    "version": 3
   },
   "pygments_lexer": "ipython3",
   "nbconvert_exporter": "python",
   "file_extension": ".py"
  },
  "kernelspec": {
   "name": "python3",
   "display_name": "Python 3.7.2 64-bit"
  },
  "interpreter": {
   "hash": "e534e48711db4d1e1c48977d0d14ff85b1f16d41bcc4fdfd88268a329b3c9d66"
  }
 },
 "nbformat": 4,
 "nbformat_minor": 2
}