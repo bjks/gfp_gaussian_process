{
 "cells": [
  {
   "cell_type": "markdown",
   "metadata": {},
   "source": [
    "# Notebook for simulating, saving and analysing MOMA-like data for a parameter range"
   ]
  },
  {
   "cell_type": "code",
   "execution_count": 1,
   "metadata": {},
   "outputs": [],
   "source": [
    "from cells_simulation import *\n"
   ]
  },
  {
   "cell_type": "code",
   "execution_count": 2,
   "metadata": {},
   "outputs": [],
   "source": [
    "\n",
    "def simulate_cells_2OUs(dt, n_cells, parameter_set, div_mode, division_log_length=None, division_time=None, division_addition=None):\n",
    "    gfp0 = 3*parameter_set['mean_q']/parameter_set['mean_lambda']\n",
    "    cell_queue = [Cell(division_log_length-np.log(2), gfp0, parameter_set['mean_lambda'], parameter_set['mean_q'])]\n",
    "    cells_simulated = []\n",
    "    no_cells = 0   # total number of cells (in queue and calculated)\n",
    "\n",
    "    while len(cells_simulated) < n_cells:\n",
    "        if len(cells_simulated)>0:\n",
    "            idx = get_current_leafs_idx(cell_queue, cells_simulated)\n",
    "            cell_index = np.random.choice(idx)\n",
    "        else:\n",
    "            cell_index = 0\n",
    "\n",
    "        cell = copy.deepcopy(cell_queue[cell_index])\n",
    "        cell.lt2 = [parameter_set['mean_lambda_2']]\n",
    "\n",
    "        # --------------------------------------------------------------- #\n",
    "        # Simulation on single cell level\n",
    "        # --------------------------------------------------------------- #\n",
    "        while True:\n",
    "            cell.time.append(cell.time[-1]+dt)\n",
    "\n",
    "            q_ou = single_ou_step(dt,   parameter_set['mean_q'], \n",
    "                                        parameter_set['gamma_q'], \n",
    "                                        parameter_set['var_q'], \n",
    "                                        cell.qt[-1]) \n",
    "\n",
    "            cell = gfp_production(cell, dt, q_ou, parameter_set['beta'])\n",
    "\n",
    "            lambda_ou = single_ou_step(dt,  parameter_set['mean_lambda'], \n",
    "                                            parameter_set['gamma_lambda'], \n",
    "                                            parameter_set['var_lambda'], \n",
    "                                            cell.lt[-1]) \n",
    "\n",
    "            lambda_ou2 = single_ou_step(dt,  parameter_set['mean_lambda_2'], \n",
    "                                            parameter_set['gamma_lambda_2'], \n",
    "                                            parameter_set['var_lambda_2'], \n",
    "                                            cell.lt2[-1]) \n",
    "\n",
    "            cell = growth_2OUs(cell, dt, lambda_ou, lambda_ou2)\n",
    "\n",
    "            # save everything\n",
    "            cell.lt.append(lambda_ou)\n",
    "            cell.lt2.append(lambda_ou2)\n",
    "\n",
    "            if is_cell_division(cell, div_mode, division_log_length, division_time, division_addition):\n",
    "                # save the simulated cell\n",
    "                cells_simulated.append(cell)\n",
    "                \n",
    "                # calc. new init conditions for 2 daugter cells\n",
    "                cell1, cell2, no_cells = cell_divsion(cell, parameter_set['var_dx'], \n",
    "                                                            parameter_set['var_dg'], \n",
    "                                                            no_cells)\n",
    "\n",
    "                # remove the simulated cell from queue and add the new ones \n",
    "                cell_queue.pop(cell_index)\n",
    "                cell_queue.append(cell1)\n",
    "                cell_queue.append(cell2)\n",
    "                break\n",
    "            else:\n",
    "                pass\n",
    "        progress_bar_n = np.around(len(cells_simulated)/n_cells*20).astype(int)\n",
    "        progress_bar = '='*progress_bar_n + ' '*(20-progress_bar_n)\n",
    "\n",
    "        print(\"\\r|\", progress_bar,  \"| Progress {:3.0f}%\".format(len(cells_simulated)/n_cells*100), \" No of cells: \", len(cells_simulated), end='')  \n",
    "    print('')\n",
    "    return cells_simulated\n",
    "\n",
    "\n"
   ]
  },
  {
   "cell_type": "code",
   "execution_count": 3,
   "metadata": {},
   "outputs": [],
   "source": [
    "def write_csv_config(filename):\n",
    "    with open(filename, \"w\") as fin:\n",
    "        fin.write(\"# Generated config file for simulated data\\n\")\n",
    "        fin.write(\"time_col = time_min  \\n\")\n",
    "        fin.write(\"length_col = log_length_noise \\n\")\n",
    "        fin.write(\"length_islog = true \\n\")\n",
    "        fin.write(\"fp_col = gfp_noise \\n\")\n",
    "        fin.write(\"parent_tags = parent_id \\n\")\n",
    "        fin.write(\"cell_tags = cell_id \\n\")\n",
    "        fin.write(\"rescale_time = 1 \\n\")"
   ]
  },
  {
   "cell_type": "code",
   "execution_count": 4,
   "metadata": {},
   "outputs": [],
   "source": [
    "# ========== Simulation parameters ========== #\n",
    "save_dataset = True    # saves data set as csv\n",
    "run_ggp = True         # runs the ggp code (located in \"../bin/\" relative to this nb)\n",
    "\n",
    "dt = 1e-3\n",
    "dt_measument = 3 # in minutes\n",
    "n_cells = 250 # number of cells that will be simulated\n",
    "\n",
    "div_mode = \"sizer\"\n",
    "\n",
    "division_log_length = 1+np.log(2)   # for sizer: division, when log_length hits division_log_length\n",
    "division_time = 60          # for timer: division, when cell cycle time hits division_time\n",
    "division_addition = np.log(2)       # for adder: divsion, when division_addition in log_length was added in cell cycle\n"
   ]
  },
  {
   "cell_type": "code",
   "execution_count": 3,
   "metadata": {},
   "outputs": [
    {
     "name": "stdout",
     "output_type": "stream",
     "text": [
      "| ==================== | Progress 100%  No of cells:  250\n",
      "Every 3000 th datapoint is saved\n"
     ]
    }
   ],
   "source": [
    "\n",
    "param_range = np.geomspace(0.001, 0.1, 10)\n",
    "print(*param_range, \"\\n\")\n",
    "\n",
    "out_dir = mk_mising_dir('../data_2.0/test_2OUs_gamma_lambda_2_n{:d}_{:s}'.format(n_cells, div_mode))\n",
    "\n",
    "for gamma_lambda_2 in param_range:\n",
    "    # ========== Model parameters ========== #\n",
    "    parameter_set = {   \"mean_lambda\": 0.01, \n",
    "                        \"mean_lambda_2\": 0.0, \n",
    "                        \"gamma_lambda\": 0.1,\n",
    "                        \"gamma_lambda_2\": gamma_lambda_2,\n",
    "                        \"var_lambda\": 1e-7,\n",
    "                        \"var_lambda_2\": 1e-7,\n",
    "                        \"mean_q\": 10,\n",
    "                        \"gamma_q\": 1e-2,\n",
    "                        \"var_q\": 0.1,\n",
    "                        \"beta\": 1e-3,\n",
    "                        \"var_x\": 1e-3, # 1e-3,\n",
    "                        \"var_g\": 5000, # 5000,\n",
    "                        \"var_dx\": 0.001,\n",
    "                        \"var_dg\": 500}\n",
    "\n",
    "    # --------- SIMULATE --------- #\n",
    "    cells_simulated = simulate_cells_2OUs(dt, n_cells, parameter_set, div_mode,\n",
    "                            division_log_length, \n",
    "                            division_time, \n",
    "                            division_addition)\n",
    "\n",
    "    dataset = build_data_set(cells_simulated, parameter_set['var_x'], parameter_set['var_g'], int(dt_measument/dt))\n",
    "\n",
    "    # ----------- SAVE ----------- #\n",
    "    if save_dataset:\n",
    "        directory, filename = get_next_file_name(out_dir)\n",
    "\n",
    "        write_param_file(os.path.join(directory, \"parameters.txt\"), parameter_set) \n",
    "\n",
    "        write_csv_config(os.path.join(directory, \"csv_config.txt\"))\n",
    "        dataset.to_csv(filename)\n",
    "        print(\"New simulation saved in\", filename)\n",
    "\n",
    "        # ----------- RUN ----------- #\n",
    "        if run_ggp:\n",
    "            run_cmd = suggest_run_command(directory, filename, modes=\"-m -p\")\n",
    "            print(\"run: -> \\n\", run_cmd)\n",
    "            s = subprocess.run(run_cmd, capture_output=False, shell=True)\n",
    "            print(s)"
   ]
  },
  {
   "cell_type": "code",
   "execution_count": 4,
   "metadata": {},
   "outputs": [
    {
     "name": "stdout",
     "output_type": "stream",
     "text": [
      "None\n",
      "New simulation saved in ../data_2.0/test_2OUs_n250_sizer/test_2OUs_n250_sizer_1/test_2OUs_n250_sizer_1.csv\n",
      "run: -> \n",
      " ../bin/gfp_gaussian -c ../data_2.0/test_2OUs_n250_sizer/test_2OUs_n250_sizer_1/csv_config.txt -b ../data_2.0/test_2OUs_n250_sizer/test_2OUs_n250_sizer_1/parameters.txt -t 1e-1  -i ../data_2.0/test_2OUs_n250_sizer/test_2OUs_n250_sizer_1/test_2OUs_n250_sizer_1.csv -l 0 -m -p\n",
      "CompletedProcess(args='../bin/gfp_gaussian -c ../data_2.0/test_2OUs_n250_sizer/test_2OUs_n250_sizer_1/csv_config.txt -b ../data_2.0/test_2OUs_n250_sizer/test_2OUs_n250_sizer_1/parameters.txt -t 1e-1  -i ../data_2.0/test_2OUs_n250_sizer/test_2OUs_n250_sizer_1/test_2OUs_n250_sizer_1.csv -l 0 -m -p', returncode=0)\n"
     ]
    }
   ],
   "source": [
    "\n",
    "                "
   ]
  },
  {
   "cell_type": "code",
   "execution_count": 5,
   "metadata": {},
   "outputs": [],
   "source": [
    "\n",
    "# =============== PLOT =============== #\n",
    "def plot_cells(cells, n_steps=1):\n",
    "    _, axes = plt.subplots(2, figsize=(5,4))\n",
    "    ax = axes.ravel()\n",
    "\n",
    "    for j in range(len(cells[::n_steps])):\n",
    "        cell = copy.deepcopy(cells[j])\n",
    "        cell.time = np.array(cell.time)\n",
    "\n",
    "        if n_steps>1:\n",
    "            ax[0].set_title(\"log length (showing every {:d}th cell)\".format(n_steps))\n",
    "            ax[1].set_title(\"gfp (showing every {:d}th cell)\".format(n_steps))\n",
    "\n",
    "        else:\n",
    "            ax[0].set_title(\"log length\")\n",
    "            ax[1].set_title(\"gfp\")\n",
    "\n",
    "        # ax[0].set_ylim([1.2, 2.2])\n",
    "        \n",
    "        if len(cells[::n_steps]) <20:\n",
    "            ax[0].axvline(cell.time[-1], ls='--', color='tab:blue')\n",
    "            ax[1].axvline(cell.time[-1], ls='--', color='tab:orange')\n",
    "\n",
    "        if j ==0:\n",
    "            ax[0].plot(cell.time, np.array(cell.log_length), label='log length', color='tab:blue')\n",
    "            ax[1].plot(cell.time, np.array(cell.gfp), color='tab:orange', label='gfp')\n",
    "\n",
    "        else:\n",
    "            ax[0].plot(cell.time, np.array(cell.log_length), color='tab:blue')\n",
    "            ax[1].plot(cell.time, np.array(cell.gfp), color='tab:orange')\n",
    "\n",
    "    for j in range(2):\n",
    "        ax[j].legend()\n",
    "    plt.tight_layout()\n",
    "    plt.show()\n"
   ]
  },
  {
   "cell_type": "code",
   "execution_count": 6,
   "metadata": {},
   "outputs": [
    {
     "data": {
      "image/png": "[encoded data removed]",
      "text/plain": [
       "<Figure size 360x288 with 2 Axes>"
      ]
     },
     "metadata": {
      "needs_background": "light"
     },
     "output_type": "display_data"
    }
   ],
   "source": [
    "plot_cells(cells_simulated[:5], n_steps=1)"
   ]
  },
  {
   "cell_type": "code",
   "execution_count": 7,
   "metadata": {},
   "outputs": [],
   "source": [
    "cell_sparse = df2cells(dataset)"
   ]
  },
  {
   "cell_type": "code",
   "execution_count": 8,
   "metadata": {},
   "outputs": [],
   "source": [
    "\n",
    "# =============== PLOT =============== #\n",
    "def plot_cells_scatter(cells, n_steps=1):\n",
    "    _, axes = plt.subplots(2, figsize=(5,4))\n",
    "    ax = axes.ravel()\n",
    "\n",
    "    for j in range(len(cells[::n_steps])):\n",
    "        cell = copy.deepcopy(cells[j])\n",
    "        cell.time = np.array(cell.time)\n",
    "\n",
    "        if n_steps>1:\n",
    "            ax[0].set_title(\"log length (showing every {:d}th cell)\".format(n_steps))\n",
    "            ax[1].set_title(\"gfp (showing every {:d}th cell)\".format(n_steps))\n",
    "\n",
    "        else:\n",
    "            ax[0].set_title(\"log length\")\n",
    "            ax[1].set_title(\"gfp\")\n",
    "\n",
    "        # ax[0].set_ylim([1.2, 2.2])\n",
    "        s=2\n",
    "        if j ==0:\n",
    "            ax[0].scatter(cell.time, np.array(cell.log_length), label='log length', color='tab:blue',s=s)\n",
    "            ax[1].scatter(cell.time, np.array(cell.gfp), color='tab:orange', label='gfp',s=s)\n",
    "\n",
    "        else:\n",
    "            ax[0].scatter(cell.time, np.array(cell.log_length), color='tab:blue', s=s)\n",
    "            ax[1].scatter(cell.time, np.array(cell.gfp), color='tab:orange', s=s)\n",
    "\n",
    "    for j in range(2):\n",
    "        ax[j].legend()\n",
    "    plt.tight_layout()\n",
    "\n",
    "    plt.show()"
   ]
  },
  {
   "cell_type": "code",
   "execution_count": 9,
   "metadata": {},
   "outputs": [
    {
     "data": {
      "image/png": "[encoded data removed]",
      "text/plain": [
       "<Figure size 360x288 with 2 Axes>"
      ]
     },
     "metadata": {
      "needs_background": "light"
     },
     "output_type": "display_data"
    }
   ],
   "source": [
    "plot_cells_scatter(cell_sparse[:5], n_steps=1)\n"
   ]
  },
  {
   "cell_type": "code",
   "execution_count": null,
   "metadata": {},
   "outputs": [],
   "source": []
  }
 ],
 "metadata": {
  "kernelspec": {
   "display_name": "Python 3",
   "language": "python",
   "name": "python3"
  },
  "language_info": {
   "codemirror_mode": {
    "name": "ipython",
    "version": 3
   },
   "file_extension": ".py",
   "mimetype": "text/x-python",
   "name": "python",
   "nbconvert_exporter": "python",
   "pygments_lexer": "ipython3",
   "version": "3.7.2-final"
  }
 },
 "nbformat": 4,
 "nbformat_minor": 2
}