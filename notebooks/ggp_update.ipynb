{
 "metadata": {
  "language_info": {
   "codemirror_mode": {
    "name": "ipython",
    "version": 3
   },
   "file_extension": ".py",
   "mimetype": "text/x-python",
   "name": "python",
   "nbconvert_exporter": "python",
   "pygments_lexer": "ipython3",
   "version": "3.7.2-final"
  },
  "orig_nbformat": 2,
  "kernelspec": {
   "name": "python3",
   "display_name": "Python 3"
  }
 },
 "nbformat": 4,
 "nbformat_minor": 2,
 "cells": [
  {
   "source": [
    "## Measurement noise of gfp\n",
    "- suspect that two types of noise were added based on the script I have \n",
    "\n",
    "<img src = \"../data/test_simulations/test_simulation_1_out/estim_params.png\" width = \"600\" />\n",
    "\n",
    "## Problematic parameter: Bleaching rate\n",
    "- beta is sometimes overestimated by a lot\n",
    "- minimized with free asymmetric cell division parameters\n",
    "\n",
    "<img src = \"../data/test_simulations/test_simulation_2_out/estim_params.png\" width = \"600\" />\n",
    "\n",
    "<img src = \"../data/test_simulations/test_simulation_1_out/1dscans.png\" width = \"1100\" />\n",
    "\n",
    "\n",
    "## \"True\" parameters and estimated parameters produce similar prediction\n",
    "<img src = \"../data/test_simulations/test_simulation_3_out/true_vs_estim.png\" width = \"1100\" />\n",
    "\n",
    "#### log length \n",
    "<img src = \"../data/test_simulations/test_simulation_3_out/compare_length_predictions.png\" width = \"400\" />\n",
    "\n",
    "#### gfp \n",
    "<img src = \"../data/test_simulations/test_simulation_3_out/compare_gfp_predictions.png\" width = \"400\" />\n",
    "\n",
    "\n"
   ],
   "cell_type": "markdown",
   "metadata": {}
  },
  {
   "source": [
    "# Next Meeting\n",
    "- dicretization in simulation messes with var_dx and var_dg most probably since the cell division deviates from s/2\n",
    "- "
   ],
   "cell_type": "markdown",
   "metadata": {}
  }
 ]
}