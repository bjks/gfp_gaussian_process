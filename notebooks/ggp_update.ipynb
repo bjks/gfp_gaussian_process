{
 "metadata": {
  "language_info": {
   "codemirror_mode": {
    "name": "ipython",
    "version": 3
   },
   "file_extension": ".py",
   "mimetype": "text/x-python",
   "name": "python",
   "nbconvert_exporter": "python",
   "pygments_lexer": "ipython3",
   "version": "3.7.2-final"
  },
  "orig_nbformat": 2,
  "kernelspec": {
   "name": "python3",
   "display_name": "Python 3"
  }
 },
 "nbformat": 4,
 "nbformat_minor": 2,
 "cells": [
  {
   "source": [
    "## Error bars and bleaching rate beta\n",
    "<img src = \"update_plots/var_dg_2_dev.png\" width = \"700\" /> <img src = \"update_plots/var_dg_2_errbars.png\" width = \"700\" />\n",
    "\n",
    "\n"
   ],
   "cell_type": "markdown",
   "metadata": {}
  },
  {
   "cell_type": "code",
   "execution_count": null,
   "metadata": {},
   "outputs": [],
   "source": []
  },
  {
   "source": [
    "# To do\n",
    "- che\n",
    "- "
   ],
   "cell_type": "markdown",
   "metadata": {}
  }
 ]
}