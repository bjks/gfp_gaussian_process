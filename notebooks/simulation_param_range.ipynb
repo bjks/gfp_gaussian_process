{
 "metadata": {
  "language_info": {
   "codemirror_mode": {
    "name": "ipython",
    "version": 3
   },
   "file_extension": ".py",
   "mimetype": "text/x-python",
   "name": "python",
   "nbconvert_exporter": "python",
   "pygments_lexer": "ipython3",
   "version": "3.7.2-final"
  },
  "orig_nbformat": 2,
  "kernelspec": {
   "name": "python3",
   "display_name": "Python 3",
   "language": "python"
  }
 },
 "nbformat": 4,
 "nbformat_minor": 2,
 "cells": [
  {
   "source": [
    "# Notebook for simulating, saving and analysing MOMA-like data for a parameter range"
   ],
   "cell_type": "markdown",
   "metadata": {}
  },
  {
   "cell_type": "code",
   "execution_count": 1,
   "metadata": {},
   "outputs": [],
   "source": [
    "from cells_simulation import *"
   ]
  },
  {
   "source": [
    "## Simulation with parameter range"
   ],
   "cell_type": "markdown",
   "metadata": {}
  },
  {
   "cell_type": "code",
   "execution_count": 3,
   "metadata": {},
   "outputs": [
    {
     "output_type": "stream",
     "name": "stdout",
     "text": [
      "| ==================== | Progress 100%  No of cells:  250\n",
      "Every 3000 th datapoint is saved\n",
      "New simulation saved in ../data/simulation_set/simulation_set_0/simulation_set_0.csv\n",
      "run: -> \n",
      " ../bin/gfp_gaussian -c ../data/simulation_set/simulation_set_0/csv_config.txt -b ../data/simulation_set/simulation_set_0/parameters.txt -r 1e-3  -i ../data/simulation_set/simulation_set_0/simulation_set_0.csv -l 0 -m -p\n",
      "CompletedProcess(args='../bin/gfp_gaussian -c ../data/simulation_set/simulation_set_0/csv_config.txt -b ../data/simulation_set/simulation_set_0/parameters.txt -r 1e-3  -i ../data/simulation_set/simulation_set_0/simulation_set_0.csv -l 0 -m -p', returncode=0)\n",
      "| ==================== | Progress 100%  No of cells:  250\n",
      "Every 3000 th datapoint is saved\n",
      "New simulation saved in ../data/simulation_set/simulation_set_1/simulation_set_1.csv\n",
      "run: -> \n",
      " ../bin/gfp_gaussian -c ../data/simulation_set/simulation_set_1/csv_config.txt -b ../data/simulation_set/simulation_set_1/parameters.txt -r 1e-3  -i ../data/simulation_set/simulation_set_1/simulation_set_1.csv -l 0 -m -p\n",
      "CompletedProcess(args='../bin/gfp_gaussian -c ../data/simulation_set/simulation_set_1/csv_config.txt -b ../data/simulation_set/simulation_set_1/parameters.txt -r 1e-3  -i ../data/simulation_set/simulation_set_1/simulation_set_1.csv -l 0 -m -p', returncode=0)\n",
      "| ==================== | Progress 100%  No of cells:  250\n",
      "Every 3000 th datapoint is saved\n",
      "New simulation saved in ../data/simulation_set/simulation_set_2/simulation_set_2.csv\n",
      "run: -> \n",
      " ../bin/gfp_gaussian -c ../data/simulation_set/simulation_set_2/csv_config.txt -b ../data/simulation_set/simulation_set_2/parameters.txt -r 1e-3  -i ../data/simulation_set/simulation_set_2/simulation_set_2.csv -l 0 -m -p\n",
      "CompletedProcess(args='../bin/gfp_gaussian -c ../data/simulation_set/simulation_set_2/csv_config.txt -b ../data/simulation_set/simulation_set_2/parameters.txt -r 1e-3  -i ../data/simulation_set/simulation_set_2/simulation_set_2.csv -l 0 -m -p', returncode=0)\n",
      "| ==================== | Progress 100%  No of cells:  250\n",
      "Every 3000 th datapoint is saved\n",
      "New simulation saved in ../data/simulation_set/simulation_set_3/simulation_set_3.csv\n",
      "run: -> \n",
      " ../bin/gfp_gaussian -c ../data/simulation_set/simulation_set_3/csv_config.txt -b ../data/simulation_set/simulation_set_3/parameters.txt -r 1e-3  -i ../data/simulation_set/simulation_set_3/simulation_set_3.csv -l 0 -m -p\n",
      "CompletedProcess(args='../bin/gfp_gaussian -c ../data/simulation_set/simulation_set_3/csv_config.txt -b ../data/simulation_set/simulation_set_3/parameters.txt -r 1e-3  -i ../data/simulation_set/simulation_set_3/simulation_set_3.csv -l 0 -m -p', returncode=0)\n",
      "| ==================== | Progress 100%  No of cells:  250\n",
      "Every 3000 th datapoint is saved\n",
      "New simulation saved in ../data/simulation_set/simulation_set_4/simulation_set_4.csv\n",
      "run: -> \n",
      " ../bin/gfp_gaussian -c ../data/simulation_set/simulation_set_4/csv_config.txt -b ../data/simulation_set/simulation_set_4/parameters.txt -r 1e-3  -i ../data/simulation_set/simulation_set_4/simulation_set_4.csv -l 0 -m -p\n",
      "CompletedProcess(args='../bin/gfp_gaussian -c ../data/simulation_set/simulation_set_4/csv_config.txt -b ../data/simulation_set/simulation_set_4/parameters.txt -r 1e-3  -i ../data/simulation_set/simulation_set_4/simulation_set_4.csv -l 0 -m -p', returncode=0)\n",
      "| ==================== | Progress 100%  No of cells:  250\n",
      "Every 3000 th datapoint is saved\n",
      "New simulation saved in ../data/simulation_set/simulation_set_5/simulation_set_5.csv\n",
      "run: -> \n",
      " ../bin/gfp_gaussian -c ../data/simulation_set/simulation_set_5/csv_config.txt -b ../data/simulation_set/simulation_set_5/parameters.txt -r 1e-3  -i ../data/simulation_set/simulation_set_5/simulation_set_5.csv -l 0 -m -p\n",
      "CompletedProcess(args='../bin/gfp_gaussian -c ../data/simulation_set/simulation_set_5/csv_config.txt -b ../data/simulation_set/simulation_set_5/parameters.txt -r 1e-3  -i ../data/simulation_set/simulation_set_5/simulation_set_5.csv -l 0 -m -p', returncode=0)\n",
      "| ==================== | Progress 100%  No of cells:  250\n",
      "Every 3000 th datapoint is saved\n",
      "New simulation saved in ../data/simulation_set/simulation_set_6/simulation_set_6.csv\n",
      "run: -> \n",
      " ../bin/gfp_gaussian -c ../data/simulation_set/simulation_set_6/csv_config.txt -b ../data/simulation_set/simulation_set_6/parameters.txt -r 1e-3  -i ../data/simulation_set/simulation_set_6/simulation_set_6.csv -l 0 -m -p\n",
      "CompletedProcess(args='../bin/gfp_gaussian -c ../data/simulation_set/simulation_set_6/csv_config.txt -b ../data/simulation_set/simulation_set_6/parameters.txt -r 1e-3  -i ../data/simulation_set/simulation_set_6/simulation_set_6.csv -l 0 -m -p', returncode=0)\n",
      "| ==================== | Progress 100%  No of cells:  250\n",
      "Every 3000 th datapoint is saved\n",
      "New simulation saved in ../data/simulation_set/simulation_set_7/simulation_set_7.csv\n",
      "run: -> \n",
      " ../bin/gfp_gaussian -c ../data/simulation_set/simulation_set_7/csv_config.txt -b ../data/simulation_set/simulation_set_7/parameters.txt -r 1e-3  -i ../data/simulation_set/simulation_set_7/simulation_set_7.csv -l 0 -m -p\n",
      "CompletedProcess(args='../bin/gfp_gaussian -c ../data/simulation_set/simulation_set_7/csv_config.txt -b ../data/simulation_set/simulation_set_7/parameters.txt -r 1e-3  -i ../data/simulation_set/simulation_set_7/simulation_set_7.csv -l 0 -m -p', returncode=0)\n",
      "| ==================== | Progress 100%  No of cells:  250\n",
      "Every 3000 th datapoint is saved\n",
      "New simulation saved in ../data/simulation_set/simulation_set_8/simulation_set_8.csv\n",
      "run: -> \n",
      " ../bin/gfp_gaussian -c ../data/simulation_set/simulation_set_8/csv_config.txt -b ../data/simulation_set/simulation_set_8/parameters.txt -r 1e-3  -i ../data/simulation_set/simulation_set_8/simulation_set_8.csv -l 0 -m -p\n",
      "CompletedProcess(args='../bin/gfp_gaussian -c ../data/simulation_set/simulation_set_8/csv_config.txt -b ../data/simulation_set/simulation_set_8/parameters.txt -r 1e-3  -i ../data/simulation_set/simulation_set_8/simulation_set_8.csv -l 0 -m -p', returncode=0)\n",
      "| ==================== | Progress 100%  No of cells:  250\n",
      "Every 3000 th datapoint is saved\n",
      "New simulation saved in ../data/simulation_set/simulation_set_9/simulation_set_9.csv\n",
      "run: -> \n",
      " ../bin/gfp_gaussian -c ../data/simulation_set/simulation_set_9/csv_config.txt -b ../data/simulation_set/simulation_set_9/parameters.txt -r 1e-3  -i ../data/simulation_set/simulation_set_9/simulation_set_9.csv -l 0 -m -p\n",
      "CompletedProcess(args='../bin/gfp_gaussian -c ../data/simulation_set/simulation_set_9/csv_config.txt -b ../data/simulation_set/simulation_set_9/parameters.txt -r 1e-3  -i ../data/simulation_set/simulation_set_9/simulation_set_9.csv -l 0 -m -p', returncode=0)\n"
     ]
    }
   ],
   "source": [
    "# ========== Simulation parameters ========== #\n",
    "out_dir = mk_mising_dir('../data/simulation_set')\n",
    "save_dataset = True    # saves data set as csv\n",
    "run_ggp = True         # runs the ggp code (located in \"../bin/\" relative to this nb)\n",
    "\n",
    "dt = 1e-3\n",
    "dt_measument = 3 # in minutes\n",
    "n_cells = 250 # number of cells that will be simulated\n",
    "\n",
    "div_mode = \"sizer\"\n",
    "division_log_length = 1+np.log(2)   # for sizer: division, when log_length hits division_log_length\n",
    "division_time = 60 - 1e-10          # for timer: division, when cell cycle time hits division_time\n",
    "division_addition = np.log(2)       # for adder: divsion, when division_addition in log_length was added in cell cycle\n",
    "\n",
    "for i in range(10):\n",
    "    # ========== Model parameters ========== #\n",
    "    parameter_set = {   \"mean_lambda\": 0.01, \n",
    "                        \"gamma_lambda\": 0.01,\n",
    "                        \"var_lambda\": 1e-7,\n",
    "                        \"mean_q\": 10,\n",
    "                        \"gamma_q\": 1e-2,\n",
    "                        \"var_q\": 0.1,\n",
    "                        \"beta\": 0.001, #1e-3,\n",
    "                        \"var_x\": 1e-3,\n",
    "                        \"var_g\": 5000,\n",
    "                        \"var_dx\": 0.001,\n",
    "                        \"var_dg\": 500}\n",
    "\n",
    "    # --------- SIMULATE --------- #\n",
    "    cells_simulated = simulate_cells(dt, n_cells, parameter_set, div_mode,\n",
    "                         division_log_length, \n",
    "                         division_time, \n",
    "                         division_addition)\n",
    "\n",
    "    dataset = build_data_set(cells_simulated, parameter_set['var_x'], parameter_set['var_g'], int(dt_measument/dt))\n",
    "\n",
    "    # ----------- SAVE ----------- #\n",
    "    if save_dataset:\n",
    "        directory, filename = get_next_file_name(out_dir)\n",
    "\n",
    "        fuzzy_params = add_noise2params(parameter_set, 0.2)\n",
    "        write_param_file(os.path.join(directory, \"parameters.txt\"), fuzzy_params, {\"var_dg\" : [\"free\"]}) \n",
    "\n",
    "        write_csv_config(os.path.join(directory, \"csv_config.txt\"))\n",
    "        dataset.to_csv(filename)\n",
    "        print(\"New simulation saved in\", filename)\n",
    "\n",
    "        # ----------- RUN ----------- #\n",
    "        if run_ggp:\n",
    "            run_cmd = suggest_run_command(directory, filename, modes=\"-m -p\")\n",
    "            print(\"run: -> \\n\", run_cmd)\n",
    "            s = subprocess.run(run_cmd, capture_output=False, shell=True)\n",
    "            print(s)\n",
    "        "
   ]
  },
  {
   "cell_type": "code",
   "execution_count": null,
   "metadata": {},
   "outputs": [],
   "source": []
  }
 ]
}