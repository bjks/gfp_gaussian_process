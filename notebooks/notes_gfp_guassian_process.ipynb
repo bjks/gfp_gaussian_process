{
 "metadata": {
  "language_info": {
   "codemirror_mode": {
    "name": "ipython",
    "version": 3
   },
   "file_extension": ".py",
   "mimetype": "text/x-python",
   "name": "python",
   "nbconvert_exporter": "python",
   "pygments_lexer": "ipython3",
   "version": "3.7.2-final"
  },
  "orig_nbformat": 2,
  "kernelspec": {
   "name": "Python 3.7.2 64-bit",
   "display_name": "Python 3.7.2 64-bit",
   "metadata": {
    "interpreter": {
     "hash": "e534e48711db4d1e1c48977d0d14ff85b1f16d41bcc4fdfd88268a329b3c9d66"
    }
   }
  }
 },
 "nbformat": 4,
 "nbformat_minor": 2,
 "cells": [
  {
   "source": [
    "# Notes gfp_gaussian_process \n",
    "## Structure\n",
    "\n"
   ],
   "cell_type": "markdown",
   "metadata": {}
  },
  {
   "cell_type": "code",
   "execution_count": null,
   "metadata": {},
   "outputs": [],
   "source": [
    "CSVconfig config(\"csv_config.txt\");\n",
    "Parameter_set params(\"parameter_bounds.txt\");\n",
    "\n",
    "// Read data\n",
    "std::vector<MOMAdata> cells =  getData(infile, \n",
    "                                    config.time_col,\n",
    "                                    config.length_col,\n",
    "                                    config.fp_col,\n",
    "                                    config.delm);\n",
    "// genealogy\n",
    "build_cell_genealogy(cells);\n",
    "std::vector<MOMAdata *> root_cells = get_roots(cells);\n",
    "\n",
    "// minimization\n",
    "for(int j=0; j<root_cells.size(); ++j){\n",
    "    numerical_minimization(*root_cells[j], params);\n",
    "}\n"
   ]
  },
  {
   "source": [
    "## Likelihhod Calculation\n",
    "- apply function recursively \n",
    "- every cell is accessed once and after its parent is calculated"
   ],
   "cell_type": "markdown",
   "metadata": {}
  },
  {
   "cell_type": "code",
   "execution_count": null,
   "metadata": {},
   "outputs": [],
   "source": [
    "void apply_down_tree(MOMAdata &cell, \n",
    "                    void (*func)(MOMAdata &, Parameter_set &), \n",
    "                    Parameter_set &params){\n",
    "    /* applies the function func to the cell cell and the other cells in the genealogy\n",
    "    * such that the parent cell has already been accessed when the function is applied \n",
    "    * to the cell.\n",
    "    * \n",
    "    * Example (number implies the order in which)\n",
    "    * _________________________________________________ \n",
    "\n",
    "\t       1\n",
    "\t     /   \\\n",
    "\t    2     5\n",
    "\t  /   \\     \\\n",
    "\t 3     4     6\n",
    "\n",
    "    * _________________________________________________ \n",
    "    */\n",
    "    apply_down_tree_recr( &cell, func, params);\n",
    "}\n",
    "\n",
    "double total_likelihood(MOMAdata &cell, Parameter_set& params){\n",
    "    /*\n",
    "    * total_likelihood of cell tree, to be maximized\n",
    "    */\n",
    "\n",
    "    apply_down_tree(cell, sc_likelihood, params);\n",
    "\n",
    "    double total_likelihood=0;\n",
    "    /*\n",
    "    * Add likelihoods of all cells\n",
    "    */\n",
    "    return total_likelihood;\n",
    "}"
   ]
  },
  {
   "source": [
    "## Root library\n",
    "- choose algorithm at runtime\n",
    "- allows definition paramter space at runtime \n",
    "- maybe tricky to install `root`"
   ],
   "cell_type": "markdown",
   "metadata": {}
  },
  {
   "cell_type": "code",
   "execution_count": null,
   "metadata": {},
   "outputs": [],
   "source": [
    "ROOT::Math::Minimizer* min = ROOT::Math::Factory::CreateMinimizer(minName, algoName);\n",
    "\n",
    "ROOT::Math::Functor f(&total_likelihood,2);\n",
    "min->SetFunction(f);\n",
    "\n",
    "if (params.mean_lambda.fixed){\n",
    "    min->SetFixedVariable(0, \"mean_lambda\", params.mean_lambda.value);\n",
    "} else {\n",
    "    min->SetLimitedVariable(0,\"mean_lambda\",\n",
    "                                params.mean_lambda.value,\n",
    "                                params.mean_lambda.step,\n",
    "                                params.mean_lambda.lower,\n",
    "                                params.mean_lambda.upper);\n",
    "}\n",
    "min->Minimize();\n"
   ]
  },
  {
   "cell_type": "code",
   "execution_count": null,
   "metadata": {},
   "outputs": [],
   "source": [
    "parameter_bounds.txt\n",
    "--------------------\n",
    "\n",
    "# for free parameter:\n",
    "# parameter = value, step, lower, upper\n",
    "mean_lambda = 2, 0.01, -10, 10 \n",
    "\n",
    "# for fixed parameter:\n",
    "mean_lambda = 4"
   ]
  }
 ]
}