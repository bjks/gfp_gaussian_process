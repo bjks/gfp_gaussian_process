{
 "metadata": {
  "language_info": {
   "codemirror_mode": {
    "name": "ipython",
    "version": 3
   },
   "file_extension": ".py",
   "mimetype": "text/x-python",
   "name": "python",
   "nbconvert_exporter": "python",
   "pygments_lexer": "ipython3",
   "version": "3.7.2-final"
  },
  "orig_nbformat": 2,
  "kernelspec": {
   "name": "python3",
   "display_name": "Python 3",
   "language": "python"
  }
 },
 "nbformat": 4,
 "nbformat_minor": 2,
 "cells": [
  {
   "source": [
    "# Notebook for simulating, saving and analysing MOMA-like data with \"fuzzy\" initital parameters\n"
   ],
   "cell_type": "markdown",
   "metadata": {}
  },
  {
   "cell_type": "code",
   "execution_count": 6,
   "metadata": {},
   "outputs": [],
   "source": [
    "from cells_simulation import *"
   ]
  },
  {
   "cell_type": "code",
   "execution_count": 10,
   "metadata": {},
   "outputs": [],
   "source": [
    "# ========== Simulation parameters ========== #\n",
    "save_dataset = True    # saves data set as csv\n",
    "run_ggp = True         # runs the ggp code (located in \"../bin/\" relative to this nb)\n",
    "\n",
    "dt = 1e-3\n",
    "dt_measument = 3 # in minutes\n",
    "n_cells = 250 # number of cells that will be simulated\n",
    "\n",
    "div_mode = \"sizer\"\n",
    "\n",
    "division_log_length = 1+np.log(2)   # for sizer: division, when log_length hits division_log_length\n",
    "division_time = 60 - 1e-10          # for timer: division, when cell cycle time hits division_time\n",
    "division_addition = np.log(2)       # for adder: divsion, when division_addition in log_length was added in cell cycle\n"
   ]
  },
  {
   "cell_type": "code",
   "execution_count": 11,
   "metadata": {},
   "outputs": [
    {
     "output_type": "execute_result",
     "data": {
      "text/plain": [
       "array([[  363.76655668,   363.76655668,   363.76655668,   363.76655668,\n",
       "          363.76655668,   363.76655668,   363.76655668,   363.76655668,\n",
       "          363.76655668,   363.76655668],\n",
       "       [ 3674.76841188,  3674.76841188,  3674.76841188,  3674.76841188,\n",
       "         3674.76841188,  3674.76841188,  3674.76841188,  3674.76841188,\n",
       "         3674.76841188,  3674.76841188],\n",
       "       [35993.84777024, 35993.84777024, 35993.84777024, 35993.84777024,\n",
       "        35993.84777024, 35993.84777024, 35993.84777024, 35993.84777024,\n",
       "        35993.84777024, 35993.84777024]])"
      ]
     },
     "metadata": {},
     "execution_count": 11
    }
   ],
   "source": [
    "param_range = np.transpose([[363.76655668, 3674.76841188, 35993.84777024] for i in range(10)]  )\n",
    "param_range"
   ]
  },
  {
   "cell_type": "code",
   "execution_count": 12,
   "metadata": {},
   "outputs": [
    {
     "output_type": "stream",
     "name": "stdout",
     "text": [
      "[363.76655668 363.76655668 363.76655668 363.76655668 363.76655668\n",
      " 363.76655668 363.76655668 363.76655668 363.76655668 363.76655668] [3674.76841188 3674.76841188 3674.76841188 3674.76841188 3674.76841188\n",
      " 3674.76841188 3674.76841188 3674.76841188 3674.76841188 3674.76841188] [35993.84777024 35993.84777024 35993.84777024 35993.84777024\n",
      " 35993.84777024 35993.84777024 35993.84777024 35993.84777024\n",
      " 35993.84777024 35993.84777024] \n",
      "\n",
      "| ==================== | Progress 100%  No of cells:  250\n",
      "Every 3000 th datapoint is saved\n"
     ]
    },
    {
     "output_type": "error",
     "ename": "ValueError",
     "evalue": "shape mismatch: objects cannot be broadcast to a single shape",
     "traceback": [
      "\u001b[0;31m---------------------------------------------------------------------------\u001b[0m",
      "\u001b[0;31mValueError\u001b[0m                                Traceback (most recent call last)",
      "\u001b[0;32m<ipython-input-12-35fa7c847f7f>\u001b[0m in \u001b[0;36m<module>\u001b[0;34m\u001b[0m\n\u001b[1;32m     23\u001b[0m                          division_addition)\n\u001b[1;32m     24\u001b[0m \u001b[0;34m\u001b[0m\u001b[0m\n\u001b[0;32m---> 25\u001b[0;31m     \u001b[0mdataset\u001b[0m \u001b[0;34m=\u001b[0m \u001b[0mbuild_data_set\u001b[0m\u001b[0;34m(\u001b[0m\u001b[0mcells_simulated\u001b[0m\u001b[0;34m,\u001b[0m \u001b[0mparameter_set\u001b[0m\u001b[0;34m[\u001b[0m\u001b[0;34m'var_x'\u001b[0m\u001b[0;34m]\u001b[0m\u001b[0;34m,\u001b[0m \u001b[0mparameter_set\u001b[0m\u001b[0;34m[\u001b[0m\u001b[0;34m'var_g'\u001b[0m\u001b[0;34m]\u001b[0m\u001b[0;34m,\u001b[0m \u001b[0mint\u001b[0m\u001b[0;34m(\u001b[0m\u001b[0mdt_measument\u001b[0m\u001b[0;34m/\u001b[0m\u001b[0mdt\u001b[0m\u001b[0;34m)\u001b[0m\u001b[0;34m)\u001b[0m\u001b[0;34m\u001b[0m\u001b[0;34m\u001b[0m\u001b[0m\n\u001b[0m\u001b[1;32m     26\u001b[0m \u001b[0;34m\u001b[0m\u001b[0m\n\u001b[1;32m     27\u001b[0m     \u001b[0;31m# ----------- SAVE ----------- #\u001b[0m\u001b[0;34m\u001b[0m\u001b[0;34m\u001b[0m\u001b[0;34m\u001b[0m\u001b[0m\n",
      "\u001b[0;32m~/EScells/gaussian_priors/gfp_gaussian_process/notebooks/cells_simulation.py\u001b[0m in \u001b[0;36mbuild_data_set\u001b[0;34m(cells_simulated, var_x, var_g, n)\u001b[0m\n\u001b[1;32m    287\u001b[0m         \u001b[0mnext_celldf\u001b[0m\u001b[0;34m[\u001b[0m\u001b[0;34m'log_length_noise'\u001b[0m\u001b[0;34m]\u001b[0m \u001b[0;34m=\u001b[0m \u001b[0mnext_celldf\u001b[0m\u001b[0;34m[\u001b[0m\u001b[0;34m'log_length'\u001b[0m\u001b[0;34m]\u001b[0m \u001b[0;34m+\u001b[0m \u001b[0mnp\u001b[0m\u001b[0;34m.\u001b[0m\u001b[0mrandom\u001b[0m\u001b[0;34m.\u001b[0m\u001b[0mnormal\u001b[0m\u001b[0;34m(\u001b[0m\u001b[0mloc\u001b[0m\u001b[0;34m=\u001b[0m\u001b[0mnp\u001b[0m\u001b[0;34m.\u001b[0m\u001b[0mzeros_like\u001b[0m\u001b[0;34m(\u001b[0m \u001b[0mnext_celldf\u001b[0m\u001b[0;34m[\u001b[0m\u001b[0;34m'log_length'\u001b[0m\u001b[0;34m]\u001b[0m\u001b[0;34m)\u001b[0m\u001b[0;34m,\u001b[0m \u001b[0mscale\u001b[0m\u001b[0;34m=\u001b[0m\u001b[0mnp\u001b[0m\u001b[0;34m.\u001b[0m\u001b[0msqrt\u001b[0m\u001b[0;34m(\u001b[0m\u001b[0mvar_x\u001b[0m\u001b[0;34m)\u001b[0m\u001b[0;34m)\u001b[0m\u001b[0;34m\u001b[0m\u001b[0;34m\u001b[0m\u001b[0m\n\u001b[1;32m    288\u001b[0m         next_celldf['gfp_noise'] = next_celldf['gfp'] + np.random.normal(loc=np.zeros_like( next_celldf['gfp']), \n\u001b[0;32m--> 289\u001b[0;31m                                                                         scale=np.sqrt(var_g))\n\u001b[0m\u001b[1;32m    290\u001b[0m         \u001b[0mdataset\u001b[0m \u001b[0;34m=\u001b[0m \u001b[0mdataset\u001b[0m\u001b[0;34m.\u001b[0m\u001b[0mappend\u001b[0m\u001b[0;34m(\u001b[0m\u001b[0mnext_celldf\u001b[0m\u001b[0;34m)\u001b[0m\u001b[0;34m\u001b[0m\u001b[0;34m\u001b[0m\u001b[0m\n\u001b[1;32m    291\u001b[0m \u001b[0;34m\u001b[0m\u001b[0m\n",
      "\u001b[0;32mmtrand.pyx\u001b[0m in \u001b[0;36mnumpy.random.mtrand.RandomState.normal\u001b[0;34m()\u001b[0m\n",
      "\u001b[0;32m_common.pyx\u001b[0m in \u001b[0;36mnumpy.random._common.cont\u001b[0;34m()\u001b[0m\n",
      "\u001b[0;32m_common.pyx\u001b[0m in \u001b[0;36mnumpy.random._common.cont_broadcast_2\u001b[0;34m()\u001b[0m\n",
      "\u001b[0;32m__init__.pxd\u001b[0m in \u001b[0;36mnumpy.PyArray_MultiIterNew2\u001b[0;34m()\u001b[0m\n",
      "\u001b[0;31mValueError\u001b[0m: shape mismatch: objects cannot be broadcast to a single shape"
     ]
    }
   ],
   "source": [
    "out_dir = mk_mising_dir('../data/match_scaled_noise{:d}_var_g_{:s}'.format(n_cells, div_mode))\n",
    "\n",
    "print(*param_range, \"\\n\")\n",
    "\n",
    "for var_g in param_range.flatten():\n",
    "    # ========== Model parameters ========== #\n",
    "    parameter_set = {   \"mean_lambda\": 0.01, \n",
    "                        \"gamma_lambda\": 0.01,\n",
    "                        \"var_lambda\": 1e-7,\n",
    "                        \"mean_q\": 10,\n",
    "                        \"gamma_q\": 1e-2,\n",
    "                        \"var_q\": 0.1,\n",
    "                        \"beta\": 0.001, \n",
    "                        \"var_x\": 1e-3,\n",
    "                        \"var_g\": var_g,\n",
    "                        \"var_dx\": 0.001,\n",
    "                        \"var_dg\": 500}\n",
    "\n",
    "    # --------- SIMULATE --------- #\n",
    "    cells_simulated = simulate_cells(dt, n_cells, parameter_set, div_mode,\n",
    "                         division_log_length, \n",
    "                         division_time, \n",
    "                         division_addition)\n",
    "\n",
    "    dataset = build_data_set(cells_simulated, parameter_set['var_x'], parameter_set['var_g'], int(dt_measument/dt))\n",
    "\n",
    "    # ----------- SAVE ----------- #\n",
    "    if save_dataset:\n",
    "        directory, filename = get_next_file_name(out_dir)\n",
    "        write_param_file(os.path.join(directory, \"parameters.txt\"), parameter_set, {\"var_dg\" : [\"free\"]}) \n",
    "        write_csv_config(os.path.join(directory, \"csv_config.txt\"))\n",
    "        dataset.to_csv(filename)\n",
    "        print(\"New simulation saved in\", filename)\n",
    "\n",
    "        # ----------- RUN ----------- #\n",
    "        if run_ggp:\n",
    "            run_cmd = suggest_run_command(directory, filename, modes=\"-m -p\")\n",
    "            print(\"run: -> \\n\", run_cmd)\n",
    "            s = subprocess.run(run_cmd, capture_output=False, shell=True)        "
   ]
  },
  {
   "cell_type": "code",
   "execution_count": null,
   "metadata": {},
   "outputs": [],
   "source": []
  }
 ]
}