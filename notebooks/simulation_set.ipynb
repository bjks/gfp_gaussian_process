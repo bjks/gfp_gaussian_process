{
 "metadata": {
  "language_info": {
   "codemirror_mode": {
    "name": "ipython",
    "version": 3
   },
   "file_extension": ".py",
   "mimetype": "text/x-python",
   "name": "python",
   "nbconvert_exporter": "python",
   "pygments_lexer": "ipython3",
   "version": "3.7.2-final"
  },
  "orig_nbformat": 2,
  "kernelspec": {
   "name": "python3",
   "display_name": "Python 3",
   "language": "python"
  }
 },
 "nbformat": 4,
 "nbformat_minor": 2,
 "cells": [
  {
   "source": [
    "# Notebook for simulating, saving and analysing MOMA-like data a set of data sets\n",
    "\n"
   ],
   "cell_type": "markdown",
   "metadata": {}
  },
  {
   "cell_type": "code",
   "execution_count": 26,
   "metadata": {},
   "outputs": [],
   "source": [
    "from cells_simulation import *"
   ]
  },
  {
   "cell_type": "code",
   "execution_count": 27,
   "metadata": {},
   "outputs": [],
   "source": [
    "# ========== Simulation parameters ========== #\n",
    "save_dataset = True    # saves data set as csv\n",
    "run_ggp = True         # runs the ggp code (located in \"../bin/\" relative to this nb)\n",
    "\n",
    "dt = 1e-3\n",
    "# dt_measument = 3 # in minutes\n",
    "n_cells = 500 # number of cells that will be simulated\n",
    "\n",
    "div_mode = \"sizer\"\n",
    "\n",
    "division_log_length = 1+np.log(2)   # for sizer: division, when log_length hits division_log_length\n",
    "division_time = 60 - 1e-10          # for timer: division, when cell cycle time hits division_time\n",
    "division_addition = np.log(2)       # for adder: divsion, when division_addition in log_length was added in cell cycle\n"
   ]
  },
  {
   "cell_type": "code",
   "execution_count": 28,
   "metadata": {},
   "outputs": [],
   "source": [
    "\n",
    "# ========== Model parameters ========== #\n",
    "parameter_set = {   \"mean_lambda\": 0.02, \n",
    "                    \"gamma_lambda\": 0.01,\n",
    "                    \"var_lambda\": 1e-7,\n",
    "                    \"mean_q\": 10,\n",
    "                    \"gamma_q\": 1e-2,\n",
    "                    \"var_q\": 0.1,\n",
    "                    \"beta\": 0.001, \n",
    "                    \"var_x\": 1e-3,\n",
    "                    \"var_g\": 5000,\n",
    "                    \"var_dx\": 0.001,\n",
    "                    \"var_dg\": 500}\n"
   ]
  },
  {
   "cell_type": "code",
   "execution_count": 29,
   "metadata": {},
   "outputs": [
    {
     "output_type": "stream",
     "name": "stdout",
     "text": [
      "| ==================== | Progress 100%  No of cells:  500\n",
      "Every 1000 th datapoint is saved\n"
     ]
    }
   ],
   "source": [
    "# --------- SIMULATE --------- #\n",
    "cells_simulated = simulate_cells(dt, n_cells, parameter_set, div_mode,\n",
    "                                division_log_length, \n",
    "                                division_time, \n",
    "                                division_addition, tree=True)      \n",
    "\n",
    "dataset = build_data_set(cells_simulated, parameter_set['var_x'], parameter_set['var_g'], int(1./dt))\n"
   ]
  },
  {
   "cell_type": "code",
   "execution_count": 30,
   "metadata": {},
   "outputs": [],
   "source": [
    "base_data_set = '../data_2.0/dt_sampling_2/dt_sampling_2_base2.csv'\n",
    "dataset.to_csv(base_data_set)"
   ]
  },
  {
   "cell_type": "code",
   "execution_count": 31,
   "metadata": {},
   "outputs": [
    {
     "output_type": "execute_result",
     "data": {
      "text/plain": [
       "       Unnamed: 0  cell_id  time_min  parent_id  log_length          gfp  \\\n",
       "0               0        0       0.0         -1    1.000000  3000.000000   \n",
       "6               6        0       6.0         -1    1.054867  3146.313662   \n",
       "12             12        0      12.0         -1    1.112646  3290.895948   \n",
       "18             18        0      18.0         -1    1.168483  3445.244068   \n",
       "24             24        0      24.0         -1    1.221621  3620.497282   \n",
       "...           ...      ...       ...        ...         ...          ...   \n",
       "10230          43      176     470.9        102    1.409811  4142.409355   \n",
       "10236          49      176     476.9        102    1.468830  4475.431402   \n",
       "10242          55      176     482.9        102    1.530968  4841.628804   \n",
       "10248          61      176     488.9        102    1.598040  5227.456610   \n",
       "10254          67      176     494.9        102    1.670039  5613.287320   \n",
       "\n",
       "             lt         qt  log_length_noise    gfp_noise  \n",
       "0      0.010000  10.000000          1.008975  2901.783577  \n",
       "6      0.009517   9.363435          0.999248  3194.843478  \n",
       "12     0.009789   9.239885          1.123467  3180.826772  \n",
       "18     0.009024   9.330898          1.125649  3469.232544  \n",
       "24     0.008818  10.205747          1.157123  3749.975028  \n",
       "...         ...        ...               ...          ...  \n",
       "10230  0.009666  14.020750          1.360196  4086.850078  \n",
       "10236  0.009873  14.598615          1.501023  4465.748584  \n",
       "10242  0.011020  15.169197          1.526279  4787.093247  \n",
       "10248  0.011159  13.740515          1.601654  5060.881070  \n",
       "10254  0.013078  13.334387          1.682945  5663.374130  \n",
       "\n",
       "[1710 rows x 10 columns]"
      ],
      "text/html": "<div>\n<style scoped>\n    .dataframe tbody tr th:only-of-type {\n        vertical-align: middle;\n    }\n\n    .dataframe tbody tr th {\n        vertical-align: top;\n    }\n\n    .dataframe thead th {\n        text-align: right;\n    }\n</style>\n<table border=\"1\" class=\"dataframe\">\n  <thead>\n    <tr style=\"text-align: right;\">\n      <th></th>\n      <th>Unnamed: 0</th>\n      <th>cell_id</th>\n      <th>time_min</th>\n      <th>parent_id</th>\n      <th>log_length</th>\n      <th>gfp</th>\n      <th>lt</th>\n      <th>qt</th>\n      <th>log_length_noise</th>\n      <th>gfp_noise</th>\n    </tr>\n  </thead>\n  <tbody>\n    <tr>\n      <th>0</th>\n      <td>0</td>\n      <td>0</td>\n      <td>0.0</td>\n      <td>-1</td>\n      <td>1.000000</td>\n      <td>3000.000000</td>\n      <td>0.010000</td>\n      <td>10.000000</td>\n      <td>1.008975</td>\n      <td>2901.783577</td>\n    </tr>\n    <tr>\n      <th>6</th>\n      <td>6</td>\n      <td>0</td>\n      <td>6.0</td>\n      <td>-1</td>\n      <td>1.054867</td>\n      <td>3146.313662</td>\n      <td>0.009517</td>\n      <td>9.363435</td>\n      <td>0.999248</td>\n      <td>3194.843478</td>\n    </tr>\n    <tr>\n      <th>12</th>\n      <td>12</td>\n      <td>0</td>\n      <td>12.0</td>\n      <td>-1</td>\n      <td>1.112646</td>\n      <td>3290.895948</td>\n      <td>0.009789</td>\n      <td>9.239885</td>\n      <td>1.123467</td>\n      <td>3180.826772</td>\n    </tr>\n    <tr>\n      <th>18</th>\n      <td>18</td>\n      <td>0</td>\n      <td>18.0</td>\n      <td>-1</td>\n      <td>1.168483</td>\n      <td>3445.244068</td>\n      <td>0.009024</td>\n      <td>9.330898</td>\n      <td>1.125649</td>\n      <td>3469.232544</td>\n    </tr>\n    <tr>\n      <th>24</th>\n      <td>24</td>\n      <td>0</td>\n      <td>24.0</td>\n      <td>-1</td>\n      <td>1.221621</td>\n      <td>3620.497282</td>\n      <td>0.008818</td>\n      <td>10.205747</td>\n      <td>1.157123</td>\n      <td>3749.975028</td>\n    </tr>\n    <tr>\n      <th>...</th>\n      <td>...</td>\n      <td>...</td>\n      <td>...</td>\n      <td>...</td>\n      <td>...</td>\n      <td>...</td>\n      <td>...</td>\n      <td>...</td>\n      <td>...</td>\n      <td>...</td>\n    </tr>\n    <tr>\n      <th>10230</th>\n      <td>43</td>\n      <td>176</td>\n      <td>470.9</td>\n      <td>102</td>\n      <td>1.409811</td>\n      <td>4142.409355</td>\n      <td>0.009666</td>\n      <td>14.020750</td>\n      <td>1.360196</td>\n      <td>4086.850078</td>\n    </tr>\n    <tr>\n      <th>10236</th>\n      <td>49</td>\n      <td>176</td>\n      <td>476.9</td>\n      <td>102</td>\n      <td>1.468830</td>\n      <td>4475.431402</td>\n      <td>0.009873</td>\n      <td>14.598615</td>\n      <td>1.501023</td>\n      <td>4465.748584</td>\n    </tr>\n    <tr>\n      <th>10242</th>\n      <td>55</td>\n      <td>176</td>\n      <td>482.9</td>\n      <td>102</td>\n      <td>1.530968</td>\n      <td>4841.628804</td>\n      <td>0.011020</td>\n      <td>15.169197</td>\n      <td>1.526279</td>\n      <td>4787.093247</td>\n    </tr>\n    <tr>\n      <th>10248</th>\n      <td>61</td>\n      <td>176</td>\n      <td>488.9</td>\n      <td>102</td>\n      <td>1.598040</td>\n      <td>5227.456610</td>\n      <td>0.011159</td>\n      <td>13.740515</td>\n      <td>1.601654</td>\n      <td>5060.881070</td>\n    </tr>\n    <tr>\n      <th>10254</th>\n      <td>67</td>\n      <td>176</td>\n      <td>494.9</td>\n      <td>102</td>\n      <td>1.670039</td>\n      <td>5613.287320</td>\n      <td>0.013078</td>\n      <td>13.334387</td>\n      <td>1.682945</td>\n      <td>5663.374130</td>\n    </tr>\n  </tbody>\n</table>\n<p>1710 rows × 10 columns</p>\n</div>"
     },
     "metadata": {},
     "execution_count": 31
    }
   ],
   "source": []
  },
  {
   "cell_type": "code",
   "execution_count": 31,
   "metadata": {},
   "outputs": [
    {
     "output_type": "stream",
     "name": "stdout",
     "text": [
      "None\n",
      "New simulation saved in ../data_2.0/dt_sampling_2/dt_sampling_2_8/dt_sampling_2_8.csv\n",
      "run: -> \n",
      " ../bin/gfp_gaussian -c ../data_2.0/dt_sampling_2/dt_sampling_2_8/csv_config.txt -b ../data_2.0/dt_sampling_2/dt_sampling_2_8/parameters.txt -t 0.05 -i ../data_2.0/dt_sampling_2/dt_sampling_2_8/dt_sampling_2_8.csv -l 0  -space log -m -p\n",
      "None\n",
      "New simulation saved in ../data_2.0/dt_sampling_2/dt_sampling_2_9/dt_sampling_2_9.csv\n",
      "run: -> \n",
      " ../bin/gfp_gaussian -c ../data_2.0/dt_sampling_2/dt_sampling_2_9/csv_config.txt -b ../data_2.0/dt_sampling_2/dt_sampling_2_9/parameters.txt -t 0.05 -i ../data_2.0/dt_sampling_2/dt_sampling_2_9/dt_sampling_2_9.csv -l 0  -space log -m -p\n",
      "None\n",
      "New simulation saved in ../data_2.0/dt_sampling_2/dt_sampling_2_10/dt_sampling_2_10.csv\n",
      "run: -> \n",
      " ../bin/gfp_gaussian -c ../data_2.0/dt_sampling_2/dt_sampling_2_10/csv_config.txt -b ../data_2.0/dt_sampling_2/dt_sampling_2_10/parameters.txt -t 0.05 -i ../data_2.0/dt_sampling_2/dt_sampling_2_10/dt_sampling_2_10.csv -l 0  -space log -m -p\n",
      "None\n",
      "New simulation saved in ../data_2.0/dt_sampling_2/dt_sampling_2_11/dt_sampling_2_11.csv\n",
      "run: -> \n",
      " ../bin/gfp_gaussian -c ../data_2.0/dt_sampling_2/dt_sampling_2_11/csv_config.txt -b ../data_2.0/dt_sampling_2/dt_sampling_2_11/parameters.txt -t 0.05 -i ../data_2.0/dt_sampling_2/dt_sampling_2_11/dt_sampling_2_11.csv -l 0  -space log -m -p\n",
      "None\n",
      "New simulation saved in ../data_2.0/dt_sampling_2/dt_sampling_2_12/dt_sampling_2_12.csv\n",
      "run: -> \n",
      " ../bin/gfp_gaussian -c ../data_2.0/dt_sampling_2/dt_sampling_2_12/csv_config.txt -b ../data_2.0/dt_sampling_2/dt_sampling_2_12/parameters.txt -t 0.05 -i ../data_2.0/dt_sampling_2/dt_sampling_2_12/dt_sampling_2_12.csv -l 0  -space log -m -p\n",
      "None\n",
      "New simulation saved in ../data_2.0/dt_sampling_2/dt_sampling_2_13/dt_sampling_2_13.csv\n",
      "run: -> \n",
      " ../bin/gfp_gaussian -c ../data_2.0/dt_sampling_2/dt_sampling_2_13/csv_config.txt -b ../data_2.0/dt_sampling_2/dt_sampling_2_13/parameters.txt -t 0.05 -i ../data_2.0/dt_sampling_2/dt_sampling_2_13/dt_sampling_2_13.csv -l 0  -space log -m -p\n",
      "None\n",
      "New simulation saved in ../data_2.0/dt_sampling_2/dt_sampling_2_14/dt_sampling_2_14.csv\n",
      "run: -> \n",
      " ../bin/gfp_gaussian -c ../data_2.0/dt_sampling_2/dt_sampling_2_14/csv_config.txt -b ../data_2.0/dt_sampling_2/dt_sampling_2_14/parameters.txt -t 0.05 -i ../data_2.0/dt_sampling_2/dt_sampling_2_14/dt_sampling_2_14.csv -l 0  -space log -m -p\n",
      "None\n",
      "New simulation saved in ../data_2.0/dt_sampling_2/dt_sampling_2_15/dt_sampling_2_15.csv\n",
      "run: -> \n",
      " ../bin/gfp_gaussian -c ../data_2.0/dt_sampling_2/dt_sampling_2_15/csv_config.txt -b ../data_2.0/dt_sampling_2/dt_sampling_2_15/parameters.txt -t 0.05 -i ../data_2.0/dt_sampling_2/dt_sampling_2_15/dt_sampling_2_15.csv -l 0  -space log -m -p\n"
     ]
    }
   ],
   "source": [
    "dts = [1,3,6,9,12,15,18,21] \n",
    "out_dir = mk_mising_dir('../data_2.0/dt_sampling_2')\n",
    "\n",
    "for dt_measument in dts:\n",
    "    temp = dataset[::dt_measument]\n",
    "    # ----------- SAVE ----------- #\n",
    "    directory, filename = get_next_file_name(out_dir)\n",
    "    write_param_file(os.path.join(directory, \"parameters.txt\"), parameter_set) \n",
    "    write_csv_config(os.path.join(directory, \"csv_config.txt\"))\n",
    "\n",
    "    temp = temp[:int(len(dataset)/max(dts))]\n",
    "    if temp.iloc[-1]['cell_id'] != temp.iloc[-2]['cell_id']:\n",
    "        temp = temp[:-1]\n",
    "\n",
    "    temp.to_csv(filename)\n",
    "    print(\"New simulation saved in\", filename)\n",
    "\n",
    "    # ----------- RUN ----------- #\n",
    "    run_cmd = suggest_run_command(directory, filename,  modes=\"-m -p\", t=5e-2, add_flag = '-space log')\n",
    "    print(\"run: -> \\n\", run_cmd)\n",
    "    s = subprocess.run(run_cmd, capture_output=False, shell=True)  "
   ]
  },
  {
   "cell_type": "code",
   "execution_count": null,
   "metadata": {},
   "outputs": [],
   "source": []
  }
 ]
}