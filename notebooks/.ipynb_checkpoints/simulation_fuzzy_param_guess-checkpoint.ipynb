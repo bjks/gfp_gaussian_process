{
 "cells": [
  {
   "cell_type": "markdown",
   "metadata": {},
   "source": [
    "# Notebook for simulating, saving and analysing MOMA-like data with \"fuzzy\" initital parameters\n"
   ]
  },
  {
   "cell_type": "markdown",
   "metadata": {},
   "source": [
    "## Simulation with fuzzy parameter guess"
   ]
  },
  {
   "cell_type": "code",
   "execution_count": 1,
   "metadata": {},
   "outputs": [],
   "source": [
    "from cells_simulation import *"
   ]
  },
  {
   "cell_type": "code",
   "execution_count": 2,
   "metadata": {},
   "outputs": [
    {
     "name": "stdout",
     "output_type": "stream",
     "text": [
      "0.2 0.2 0.2 0.2 0.2 0.3 0.3 0.3 0.3 0.3 0.4 0.4 0.4 0.4 0.4 0.5 0.5 0.5 0.5 0.5 0.6 0.6 0.6 0.6 0.6 \n",
      "\n",
      "| ==================== | Progress 100%  No of cells:  250\n",
      "Every 3000 th datapoint is saved\n"
     ]
    }
   ],
   "source": [
    "# ========== Simulation parameters ========== #\n",
    "out_dir = mk_mising_dir('../data/fuzzy_param_guess')\n",
    "save_dataset = True    # saves data set as csv\n",
    "run_ggp = True         # runs the ggp code (located in \"../bin/\" relative to this nb)\n",
    "\n",
    "dt = 1e-3\n",
    "dt_measument = 3 # in minutes\n",
    "n_cells = 250 # number of cells that will be simulated\n",
    "\n",
    "div_mode = \"timer\"\n",
    "division_log_length = 1+np.log(2)   # for sizer: division, when log_length hits division_log_length\n",
    "division_time = 60 - 1e-10          # for timer: division, when cell cycle time hits division_time\n",
    "division_addition = np.log(2)       # for adder: divsion, when division_addition in log_length was added in cell cycle\n",
    "\n",
    "# ========== Model parameters ========== #\n",
    "parameter_set = {   \"mean_lambda\": 0.01, \n",
    "                    \"gamma_lambda\": 0.01,\n",
    "                    \"var_lambda\": 1e-7,\n",
    "                    \"mean_q\": 10,\n",
    "                    \"gamma_q\": 1e-2,\n",
    "                    \"var_q\": 0.1,\n",
    "                    \"beta\": 0.001, #1e-3,\n",
    "                    \"var_x\": 1e-3,\n",
    "                    \"var_g\": 5000,\n",
    "                    \"var_dx\": 0.001,\n",
    "                    \"var_dg\": 500}\n",
    "\n",
    "noise_levels = [0.2 for i in range(5)] + [0.3 for i in range(5)] + [0.4 for i in range(5)] + [0.5 for i in range(5)] +[0.6 for i in range(5)]\n",
    "print(*noise_levels, \"\\n\")\n",
    "\n",
    "# --------- SIMULATE --------- #\n",
    "cells_simulated = simulate_cells(dt, n_cells, parameter_set, div_mode,\n",
    "                         division_log_length, \n",
    "                         division_time, \n",
    "                         division_addition)\n",
    "\n",
    "dataset = build_data_set(cells_simulated, parameter_set['var_x'], parameter_set['var_g'], int(dt_measument/dt))\n"
   ]
  },
  {
   "cell_type": "code",
   "execution_count": 8,
   "metadata": {},
   "outputs": [
    {
     "name": "stdout",
     "output_type": "stream",
     "text": [
      "{'mean_lambda': 0.008368428377490647, 'gamma_lambda': 0.00762370502966075, 'var_lambda': 6.035199594181873e-08, 'mean_q': 12.53968568133718, 'gamma_q': 0.007150176401308567, 'var_q': 0.07859081851180864, 'beta': 0.000862551201734459, 'var_x': 0.0010122755870318352, 'var_g': 5050.503511524229, 'var_dx': 0.0008035806517828944, 'var_dg': 346.14086330274006}\n",
      "New simulation saved in ../data/fuzzy_param_guess/fuzzy_param_guess_5/fuzzy_param_guess_5.csv\n",
      "run: -> \n",
      " ../bin/gfp_gaussian -c ../data/fuzzy_param_guess/fuzzy_param_guess_5/csv_config.txt -b ../data/fuzzy_param_guess/fuzzy_param_guess_5/parameters.txt -r 1e-3  -i ../data/fuzzy_param_guess/fuzzy_param_guess_5/fuzzy_param_guess_5.csv -l 0 -s -m -p\n",
      "CompletedProcess(args='../bin/gfp_gaussian -c ../data/fuzzy_param_guess/fuzzy_param_guess_5/csv_config.txt -b ../data/fuzzy_param_guess/fuzzy_param_guess_5/parameters.txt -r 1e-3  -i ../data/fuzzy_param_guess/fuzzy_param_guess_5/fuzzy_param_guess_5.csv -l 0 -s -m -p', returncode=0)\n",
      "{'mean_lambda': 0.011125184850068888, 'gamma_lambda': 0.010862300944547617, 'var_lambda': 6.703242179872272e-08, 'mean_q': 7.67154045418539, 'gamma_q': 0.011037498972691604, 'var_q': 0.08864653072662639, 'beta': 0.0007980506198629433, 'var_x': 0.0009942913601113789, 'var_g': 3882.1167873178274, 'var_dx': 0.001413617427949732, 'var_dg': 514.7017621722202}\n",
      "New simulation saved in ../data/fuzzy_param_guess/fuzzy_param_guess_6/fuzzy_param_guess_6.csv\n",
      "run: -> \n",
      " ../bin/gfp_gaussian -c ../data/fuzzy_param_guess/fuzzy_param_guess_6/csv_config.txt -b ../data/fuzzy_param_guess/fuzzy_param_guess_6/parameters.txt -r 1e-3  -i ../data/fuzzy_param_guess/fuzzy_param_guess_6/fuzzy_param_guess_6.csv -l 0 -s -m -p\n",
      "CompletedProcess(args='../bin/gfp_gaussian -c ../data/fuzzy_param_guess/fuzzy_param_guess_6/csv_config.txt -b ../data/fuzzy_param_guess/fuzzy_param_guess_6/parameters.txt -r 1e-3  -i ../data/fuzzy_param_guess/fuzzy_param_guess_6/fuzzy_param_guess_6.csv -l 0 -s -m -p', returncode=0)\n",
      "{'mean_lambda': 0.01227229996825167, 'gamma_lambda': 0.013039030331266532, 'var_lambda': 7.546912719991892e-08, 'mean_q': 11.534339506326853, 'gamma_q': 0.014816313652307863, 'var_q': 0.09019983818305707, 'beta': 0.0008907916649738175, 'var_x': 0.001036056828883855, 'var_g': 6501.282314233591, 'var_dx': 0.001224051477119425, 'var_dg': 372.6232330796772}\n",
      "New simulation saved in ../data/fuzzy_param_guess/fuzzy_param_guess_7/fuzzy_param_guess_7.csv\n",
      "run: -> \n",
      " ../bin/gfp_gaussian -c ../data/fuzzy_param_guess/fuzzy_param_guess_7/csv_config.txt -b ../data/fuzzy_param_guess/fuzzy_param_guess_7/parameters.txt -r 1e-3  -i ../data/fuzzy_param_guess/fuzzy_param_guess_7/fuzzy_param_guess_7.csv -l 0 -s -m -p\n",
      "CompletedProcess(args='../bin/gfp_gaussian -c ../data/fuzzy_param_guess/fuzzy_param_guess_7/csv_config.txt -b ../data/fuzzy_param_guess/fuzzy_param_guess_7/parameters.txt -r 1e-3  -i ../data/fuzzy_param_guess/fuzzy_param_guess_7/fuzzy_param_guess_7.csv -l 0 -s -m -p', returncode=0)\n",
      "{'mean_lambda': 0.0108743534947166, 'gamma_lambda': 0.009236814597752916, 'var_lambda': 8.613266715859837e-08, 'mean_q': 8.001690234825197, 'gamma_q': 0.00898302306581041, 'var_q': 0.09133292861507361, 'beta': 0.0014281974066388656, 'var_x': 0.0011266836793909297, 'var_g': 4918.408177740385, 'var_dx': 0.0007796302822176675, 'var_dg': 511.8353790361651}\n",
      "New simulation saved in ../data/fuzzy_param_guess/fuzzy_param_guess_8/fuzzy_param_guess_8.csv\n",
      "run: -> \n",
      " ../bin/gfp_gaussian -c ../data/fuzzy_param_guess/fuzzy_param_guess_8/csv_config.txt -b ../data/fuzzy_param_guess/fuzzy_param_guess_8/parameters.txt -r 1e-3  -i ../data/fuzzy_param_guess/fuzzy_param_guess_8/fuzzy_param_guess_8.csv -l 0 -s -m -p\n",
      "CompletedProcess(args='../bin/gfp_gaussian -c ../data/fuzzy_param_guess/fuzzy_param_guess_8/csv_config.txt -b ../data/fuzzy_param_guess/fuzzy_param_guess_8/parameters.txt -r 1e-3  -i ../data/fuzzy_param_guess/fuzzy_param_guess_8/fuzzy_param_guess_8.csv -l 0 -s -m -p', returncode=0)\n",
      "{'mean_lambda': 0.00974422517324482, 'gamma_lambda': 0.00850629147365195, 'var_lambda': 9.2624421389036e-08, 'mean_q': 12.719930591371277, 'gamma_q': 0.012490145765413772, 'var_q': 0.08250988235649509, 'beta': 0.0008681054914713004, 'var_x': 0.000801959598931867, 'var_g': 6950.187287519249, 'var_dx': 0.0007455423338403333, 'var_dg': 380.2361328483283}\n",
      "New simulation saved in ../data/fuzzy_param_guess/fuzzy_param_guess_9/fuzzy_param_guess_9.csv\n",
      "run: -> \n",
      " ../bin/gfp_gaussian -c ../data/fuzzy_param_guess/fuzzy_param_guess_9/csv_config.txt -b ../data/fuzzy_param_guess/fuzzy_param_guess_9/parameters.txt -r 1e-3  -i ../data/fuzzy_param_guess/fuzzy_param_guess_9/fuzzy_param_guess_9.csv -l 0 -s -m -p\n",
      "CompletedProcess(args='../bin/gfp_gaussian -c ../data/fuzzy_param_guess/fuzzy_param_guess_9/csv_config.txt -b ../data/fuzzy_param_guess/fuzzy_param_guess_9/parameters.txt -r 1e-3  -i ../data/fuzzy_param_guess/fuzzy_param_guess_9/fuzzy_param_guess_9.csv -l 0 -s -m -p', returncode=0)\n",
      "{'mean_lambda': 0.014197974560198385, 'gamma_lambda': 0.007175436050703188, 'var_lambda': 1.4931240993501736e-07, 'mean_q': 10.11307514645598, 'gamma_q': 0.010524873595808986, 'var_q': 0.13237727043909842, 'beta': 0.0009642991747647285, 'var_x': 0.0013860812952843306, 'var_g': 4547.2622124081545, 'var_dx': 0.0004912808455054437, 'var_dg': 602.6833602345469}\n",
      "New simulation saved in ../data/fuzzy_param_guess/fuzzy_param_guess_10/fuzzy_param_guess_10.csv\n",
      "run: -> \n",
      " ../bin/gfp_gaussian -c ../data/fuzzy_param_guess/fuzzy_param_guess_10/csv_config.txt -b ../data/fuzzy_param_guess/fuzzy_param_guess_10/parameters.txt -r 1e-3  -i ../data/fuzzy_param_guess/fuzzy_param_guess_10/fuzzy_param_guess_10.csv -l 0 -s -m -p\n",
      "CompletedProcess(args='../bin/gfp_gaussian -c ../data/fuzzy_param_guess/fuzzy_param_guess_10/csv_config.txt -b ../data/fuzzy_param_guess/fuzzy_param_guess_10/parameters.txt -r 1e-3  -i ../data/fuzzy_param_guess/fuzzy_param_guess_10/fuzzy_param_guess_10.csv -l 0 -s -m -p', returncode=0)\n",
      "{'mean_lambda': 0.008481071392690427, 'gamma_lambda': 0.014794173287672489, 'var_lambda': 1.1694627361934912e-07, 'mean_q': 8.779870131790215, 'gamma_q': 0.006141781094958625, 'var_q': 0.09911111501228735, 'beta': 0.000605691973253155, 'var_x': 0.0009242866291731607, 'var_g': 5810.605939440335, 'var_dx': 0.0006684581596656512, 'var_dg': 582.9428309837789}\n",
      "New simulation saved in ../data/fuzzy_param_guess/fuzzy_param_guess_11/fuzzy_param_guess_11.csv\n",
      "run: -> \n",
      " ../bin/gfp_gaussian -c ../data/fuzzy_param_guess/fuzzy_param_guess_11/csv_config.txt -b ../data/fuzzy_param_guess/fuzzy_param_guess_11/parameters.txt -r 1e-3  -i ../data/fuzzy_param_guess/fuzzy_param_guess_11/fuzzy_param_guess_11.csv -l 0 -s -m -p\n",
      "CompletedProcess(args='../bin/gfp_gaussian -c ../data/fuzzy_param_guess/fuzzy_param_guess_11/csv_config.txt -b ../data/fuzzy_param_guess/fuzzy_param_guess_11/parameters.txt -r 1e-3  -i ../data/fuzzy_param_guess/fuzzy_param_guess_11/fuzzy_param_guess_11.csv -l 0 -s -m -p', returncode=0)\n",
      "{'mean_lambda': 0.013380034577157966, 'gamma_lambda': 0.01079969480460946, 'var_lambda': 1.3534149475825795e-07, 'mean_q': 13.835603677753571, 'gamma_q': 0.004850578720448649, 'var_q': 0.10795757301802761, 'beta': 0.0010941241447412356, 'var_x': 0.0005988876609418171, 'var_g': 2116.401996273005, 'var_dx': 0.0006027828651551213, 'var_dg': 534.9800519428384}\n",
      "New simulation saved in ../data/fuzzy_param_guess/fuzzy_param_guess_12/fuzzy_param_guess_12.csv\n",
      "run: -> \n",
      " ../bin/gfp_gaussian -c ../data/fuzzy_param_guess/fuzzy_param_guess_12/csv_config.txt -b ../data/fuzzy_param_guess/fuzzy_param_guess_12/parameters.txt -r 1e-3  -i ../data/fuzzy_param_guess/fuzzy_param_guess_12/fuzzy_param_guess_12.csv -l 0 -s -m -p\n",
      "CompletedProcess(args='../bin/gfp_gaussian -c ../data/fuzzy_param_guess/fuzzy_param_guess_12/csv_config.txt -b ../data/fuzzy_param_guess/fuzzy_param_guess_12/parameters.txt -r 1e-3  -i ../data/fuzzy_param_guess/fuzzy_param_guess_12/fuzzy_param_guess_12.csv -l 0 -s -m -p', returncode=0)\n",
      "{'mean_lambda': 0.00691739754550324, 'gamma_lambda': 0.004700575033744891, 'var_lambda': 1.4806849255997535e-07, 'mean_q': 8.939615375610208, 'gamma_q': 0.013493213342464063, 'var_q': 0.08993780596975326, 'beta': 0.0003000949050059198, 'var_x': 0.0005537024519561226, 'var_g': 4830.386487807414, 'var_dx': 0.0009816452888594704, 'var_dg': 548.3610380438038}\n",
      "New simulation saved in ../data/fuzzy_param_guess/fuzzy_param_guess_13/fuzzy_param_guess_13.csv\n",
      "run: -> \n",
      " ../bin/gfp_gaussian -c ../data/fuzzy_param_guess/fuzzy_param_guess_13/csv_config.txt -b ../data/fuzzy_param_guess/fuzzy_param_guess_13/parameters.txt -r 1e-3  -i ../data/fuzzy_param_guess/fuzzy_param_guess_13/fuzzy_param_guess_13.csv -l 0 -s -m -p\n",
      "CompletedProcess(args='../bin/gfp_gaussian -c ../data/fuzzy_param_guess/fuzzy_param_guess_13/csv_config.txt -b ../data/fuzzy_param_guess/fuzzy_param_guess_13/parameters.txt -r 1e-3  -i ../data/fuzzy_param_guess/fuzzy_param_guess_13/fuzzy_param_guess_13.csv -l 0 -s -m -p', returncode=0)\n",
      "{'mean_lambda': 0.0072179789700165115, 'gamma_lambda': 0.009593396549121211, 'var_lambda': 1.0161089774546435e-07, 'mean_q': 5.684987434197674, 'gamma_q': 0.00828695510065187, 'var_q': 0.06595047355692066, 'beta': 0.0008632949309050535, 'var_x': 0.0006557967455791659, 'var_g': 6720.605335056599, 'var_dx': 0.0015144498893538655, 'var_dg': 255.27659748103022}\n",
      "New simulation saved in ../data/fuzzy_param_guess/fuzzy_param_guess_14/fuzzy_param_guess_14.csv\n",
      "run: -> \n",
      " ../bin/gfp_gaussian -c ../data/fuzzy_param_guess/fuzzy_param_guess_14/csv_config.txt -b ../data/fuzzy_param_guess/fuzzy_param_guess_14/parameters.txt -r 1e-3  -i ../data/fuzzy_param_guess/fuzzy_param_guess_14/fuzzy_param_guess_14.csv -l 0 -s -m -p\n",
      "CompletedProcess(args='../bin/gfp_gaussian -c ../data/fuzzy_param_guess/fuzzy_param_guess_14/csv_config.txt -b ../data/fuzzy_param_guess/fuzzy_param_guess_14/parameters.txt -r 1e-3  -i ../data/fuzzy_param_guess/fuzzy_param_guess_14/fuzzy_param_guess_14.csv -l 0 -s -m -p', returncode=0)\n",
      "{'mean_lambda': 0.009520774287257524, 'gamma_lambda': 0.00760230926737296, 'var_lambda': 1.2267574044187974e-07, 'mean_q': 12.382393512374158, 'gamma_q': 0.006898778901712844, 'var_q': 0.07121020910021099, 'beta': 0.0007778301572751414, 'var_x': 0.0011695311675475784, 'var_g': 6101.064334175236, 'var_dx': 0.00080824236752895, 'var_dg': 329.2391690215165}\n",
      "New simulation saved in ../data/fuzzy_param_guess/fuzzy_param_guess_15/fuzzy_param_guess_15.csv\n",
      "run: -> \n",
      " ../bin/gfp_gaussian -c ../data/fuzzy_param_guess/fuzzy_param_guess_15/csv_config.txt -b ../data/fuzzy_param_guess/fuzzy_param_guess_15/parameters.txt -r 1e-3  -i ../data/fuzzy_param_guess/fuzzy_param_guess_15/fuzzy_param_guess_15.csv -l 0 -s -m -p\n",
      "CompletedProcess(args='../bin/gfp_gaussian -c ../data/fuzzy_param_guess/fuzzy_param_guess_15/csv_config.txt -b ../data/fuzzy_param_guess/fuzzy_param_guess_15/parameters.txt -r 1e-3  -i ../data/fuzzy_param_guess/fuzzy_param_guess_15/fuzzy_param_guess_15.csv -l 0 -s -m -p', returncode=0)\n",
      "{'mean_lambda': 0.013413523462533555, 'gamma_lambda': 0.008869642585561598, 'var_lambda': 1.0624960570828587e-07, 'mean_q': 10.108194305255507, 'gamma_q': 0.01290044203698445, 'var_q': 0.05651800189766899, 'beta': 0.0014396036575192678, 'var_x': 0.0012504615528395368, 'var_g': 2789.284932730286, 'var_dx': 0.000799758523397153, 'var_dg': 452.86609276714313}\n",
      "New simulation saved in ../data/fuzzy_param_guess/fuzzy_param_guess_16/fuzzy_param_guess_16.csv\n",
      "run: -> \n",
      " ../bin/gfp_gaussian -c ../data/fuzzy_param_guess/fuzzy_param_guess_16/csv_config.txt -b ../data/fuzzy_param_guess/fuzzy_param_guess_16/parameters.txt -r 1e-3  -i ../data/fuzzy_param_guess/fuzzy_param_guess_16/fuzzy_param_guess_16.csv -l 0 -s -m -p\n",
      "CompletedProcess(args='../bin/gfp_gaussian -c ../data/fuzzy_param_guess/fuzzy_param_guess_16/csv_config.txt -b ../data/fuzzy_param_guess/fuzzy_param_guess_16/parameters.txt -r 1e-3  -i ../data/fuzzy_param_guess/fuzzy_param_guess_16/fuzzy_param_guess_16.csv -l 0 -s -m -p', returncode=0)\n",
      "{'mean_lambda': 0.012008770349675008, 'gamma_lambda': 0.011651978067331321, 'var_lambda': 1.1497281615407844e-07, 'mean_q': 10.72351671517092, 'gamma_q': 0.008608267114079008, 'var_q': 0.09060846375309037, 'beta': 0.00088111621146163, 'var_x': 0.00104119962548448, 'var_g': 4226.391259435334, 'var_dx': 0.0010352509995016613, 'var_dg': 309.8219605008838}\n",
      "New simulation saved in ../data/fuzzy_param_guess/fuzzy_param_guess_17/fuzzy_param_guess_17.csv\n",
      "run: -> \n",
      " ../bin/gfp_gaussian -c ../data/fuzzy_param_guess/fuzzy_param_guess_17/csv_config.txt -b ../data/fuzzy_param_guess/fuzzy_param_guess_17/parameters.txt -r 1e-3  -i ../data/fuzzy_param_guess/fuzzy_param_guess_17/fuzzy_param_guess_17.csv -l 0 -s -m -p\n",
      "CompletedProcess(args='../bin/gfp_gaussian -c ../data/fuzzy_param_guess/fuzzy_param_guess_17/csv_config.txt -b ../data/fuzzy_param_guess/fuzzy_param_guess_17/parameters.txt -r 1e-3  -i ../data/fuzzy_param_guess/fuzzy_param_guess_17/fuzzy_param_guess_17.csv -l 0 -s -m -p', returncode=0)\n",
      "{'mean_lambda': 0.018331636028873305, 'gamma_lambda': 0.007752377962102347, 'var_lambda': 1.033447120781854e-07, 'mean_q': 11.35933810092936, 'gamma_q': 0.009988489395514877, 'var_q': 0.09165406313134675, 'beta': 0.0003315186499043523, 'var_x': 0.0008111864556734235, 'var_g': 2765.8490545207965, 'var_dx': 0.0016282480536132923, 'var_dg': 675.8368631797123}\n",
      "New simulation saved in ../data/fuzzy_param_guess/fuzzy_param_guess_18/fuzzy_param_guess_18.csv\n",
      "run: -> \n",
      " ../bin/gfp_gaussian -c ../data/fuzzy_param_guess/fuzzy_param_guess_18/csv_config.txt -b ../data/fuzzy_param_guess/fuzzy_param_guess_18/parameters.txt -r 1e-3  -i ../data/fuzzy_param_guess/fuzzy_param_guess_18/fuzzy_param_guess_18.csv -l 0 -s -m -p\n",
      "CompletedProcess(args='../bin/gfp_gaussian -c ../data/fuzzy_param_guess/fuzzy_param_guess_18/csv_config.txt -b ../data/fuzzy_param_guess/fuzzy_param_guess_18/parameters.txt -r 1e-3  -i ../data/fuzzy_param_guess/fuzzy_param_guess_18/fuzzy_param_guess_18.csv -l 0 -s -m -p', returncode=0)\n",
      "{'mean_lambda': 0.0033229658805574097, 'gamma_lambda': 0.010671135851381028, 'var_lambda': 9.88824763804794e-08, 'mean_q': 5.767849161018737, 'gamma_q': 0.009665744678699953, 'var_q': 0.1027674702082449, 'beta': 0.0009833836985812445, 'var_x': 0.0013568210426840909, 'var_g': 3787.8747147461836, 'var_dx': 0.0007160439430831875, 'var_dg': 425.0836836562573}\n",
      "New simulation saved in ../data/fuzzy_param_guess/fuzzy_param_guess_19/fuzzy_param_guess_19.csv\n",
      "run: -> \n",
      " ../bin/gfp_gaussian -c ../data/fuzzy_param_guess/fuzzy_param_guess_19/csv_config.txt -b ../data/fuzzy_param_guess/fuzzy_param_guess_19/parameters.txt -r 1e-3  -i ../data/fuzzy_param_guess/fuzzy_param_guess_19/fuzzy_param_guess_19.csv -l 0 -s -m -p\n",
      "CompletedProcess(args='../bin/gfp_gaussian -c ../data/fuzzy_param_guess/fuzzy_param_guess_19/csv_config.txt -b ../data/fuzzy_param_guess/fuzzy_param_guess_19/parameters.txt -r 1e-3  -i ../data/fuzzy_param_guess/fuzzy_param_guess_19/fuzzy_param_guess_19.csv -l 0 -s -m -p', returncode=0)\n",
      "{'mean_lambda': 0.008344276657209309, 'gamma_lambda': 0.001, 'var_lambda': 9.452170284726758e-08, 'mean_q': 4.154205591780524, 'gamma_q': 0.001958684788078818, 'var_q': 0.06468372701179695, 'beta': 0.0006681926253539775, 'var_x': 0.0002971650763913319, 'var_g': 5022.140867574929, 'var_dx': 0.0008043731632697416, 'var_dg': 535.3354098251672}\n",
      "New simulation saved in ../data/fuzzy_param_guess/fuzzy_param_guess_20/fuzzy_param_guess_20.csv\n",
      "run: -> \n",
      " ../bin/gfp_gaussian -c ../data/fuzzy_param_guess/fuzzy_param_guess_20/csv_config.txt -b ../data/fuzzy_param_guess/fuzzy_param_guess_20/parameters.txt -r 1e-3  -i ../data/fuzzy_param_guess/fuzzy_param_guess_20/fuzzy_param_guess_20.csv -l 0 -s -m -p\n",
      "CompletedProcess(args='../bin/gfp_gaussian -c ../data/fuzzy_param_guess/fuzzy_param_guess_20/csv_config.txt -b ../data/fuzzy_param_guess/fuzzy_param_guess_20/parameters.txt -r 1e-3  -i ../data/fuzzy_param_guess/fuzzy_param_guess_20/fuzzy_param_guess_20.csv -l 0 -s -m -p', returncode=0)\n",
      "{'mean_lambda': 0.014747855400323442, 'gamma_lambda': 0.013966751626887581, 'var_lambda': 1.70391624351431e-07, 'mean_q': 10.207848626376217, 'gamma_q': 0.012749705313912386, 'var_q': 0.12905247940511705, 'beta': 0.0015960858911265121, 'var_x': 0.0007290946194601869, 'var_g': 10700.649356171609, 'var_dx': 0.0001, 'var_dg': 270.0209702725297}\n",
      "New simulation saved in ../data/fuzzy_param_guess/fuzzy_param_guess_21/fuzzy_param_guess_21.csv\n",
      "run: -> \n",
      " ../bin/gfp_gaussian -c ../data/fuzzy_param_guess/fuzzy_param_guess_21/csv_config.txt -b ../data/fuzzy_param_guess/fuzzy_param_guess_21/parameters.txt -r 1e-3  -i ../data/fuzzy_param_guess/fuzzy_param_guess_21/fuzzy_param_guess_21.csv -l 0 -s -m -p\n"
     ]
    },
    {
     "ename": "KeyboardInterrupt",
     "evalue": "",
     "output_type": "error",
     "traceback": [
      "\u001b[0;31m---------------------------------------------------------------------------\u001b[0m",
      "\u001b[0;31mKeyboardInterrupt\u001b[0m                         Traceback (most recent call last)",
      "\u001b[0;32m<ipython-input-8-77530644ee15>\u001b[0m in \u001b[0;36m<module>\u001b[0;34m\u001b[0m\n\u001b[1;32m     17\u001b[0m             \u001b[0mrun_cmd\u001b[0m \u001b[0;34m=\u001b[0m \u001b[0msuggest_run_command\u001b[0m\u001b[0;34m(\u001b[0m\u001b[0mdirectory\u001b[0m\u001b[0;34m,\u001b[0m \u001b[0mfilename\u001b[0m\u001b[0;34m)\u001b[0m\u001b[0;34m\u001b[0m\u001b[0;34m\u001b[0m\u001b[0m\n\u001b[1;32m     18\u001b[0m             \u001b[0mprint\u001b[0m\u001b[0;34m(\u001b[0m\u001b[0;34m\"run: -> \\n\"\u001b[0m\u001b[0;34m,\u001b[0m \u001b[0mrun_cmd\u001b[0m\u001b[0;34m)\u001b[0m\u001b[0;34m\u001b[0m\u001b[0;34m\u001b[0m\u001b[0m\n\u001b[0;32m---> 19\u001b[0;31m             \u001b[0ms\u001b[0m \u001b[0;34m=\u001b[0m \u001b[0msubprocess\u001b[0m\u001b[0;34m.\u001b[0m\u001b[0mrun\u001b[0m\u001b[0;34m(\u001b[0m\u001b[0mrun_cmd\u001b[0m\u001b[0;34m,\u001b[0m \u001b[0mcapture_output\u001b[0m\u001b[0;34m=\u001b[0m\u001b[0;32mFalse\u001b[0m\u001b[0;34m,\u001b[0m \u001b[0mshell\u001b[0m\u001b[0;34m=\u001b[0m\u001b[0;32mTrue\u001b[0m\u001b[0;34m)\u001b[0m\u001b[0;34m\u001b[0m\u001b[0;34m\u001b[0m\u001b[0m\n\u001b[0m\u001b[1;32m     20\u001b[0m             \u001b[0mprint\u001b[0m\u001b[0;34m(\u001b[0m\u001b[0ms\u001b[0m\u001b[0;34m)\u001b[0m\u001b[0;34m\u001b[0m\u001b[0;34m\u001b[0m\u001b[0m\n\u001b[1;32m     21\u001b[0m \u001b[0;34m\u001b[0m\u001b[0m\n",
      "\u001b[0;32m/Library/Frameworks/Python.framework/Versions/3.7/lib/python3.7/subprocess.py\u001b[0m in \u001b[0;36mrun\u001b[0;34m(input, capture_output, timeout, check, *popenargs, **kwargs)\u001b[0m\n\u001b[1;32m    472\u001b[0m     \u001b[0;32mwith\u001b[0m \u001b[0mPopen\u001b[0m\u001b[0;34m(\u001b[0m\u001b[0;34m*\u001b[0m\u001b[0mpopenargs\u001b[0m\u001b[0;34m,\u001b[0m \u001b[0;34m**\u001b[0m\u001b[0mkwargs\u001b[0m\u001b[0;34m)\u001b[0m \u001b[0;32mas\u001b[0m \u001b[0mprocess\u001b[0m\u001b[0;34m:\u001b[0m\u001b[0;34m\u001b[0m\u001b[0;34m\u001b[0m\u001b[0m\n\u001b[1;32m    473\u001b[0m         \u001b[0;32mtry\u001b[0m\u001b[0;34m:\u001b[0m\u001b[0;34m\u001b[0m\u001b[0;34m\u001b[0m\u001b[0m\n\u001b[0;32m--> 474\u001b[0;31m             \u001b[0mstdout\u001b[0m\u001b[0;34m,\u001b[0m \u001b[0mstderr\u001b[0m \u001b[0;34m=\u001b[0m \u001b[0mprocess\u001b[0m\u001b[0;34m.\u001b[0m\u001b[0mcommunicate\u001b[0m\u001b[0;34m(\u001b[0m\u001b[0minput\u001b[0m\u001b[0;34m,\u001b[0m \u001b[0mtimeout\u001b[0m\u001b[0;34m=\u001b[0m\u001b[0mtimeout\u001b[0m\u001b[0;34m)\u001b[0m\u001b[0;34m\u001b[0m\u001b[0;34m\u001b[0m\u001b[0m\n\u001b[0m\u001b[1;32m    475\u001b[0m         \u001b[0;32mexcept\u001b[0m \u001b[0mTimeoutExpired\u001b[0m\u001b[0;34m:\u001b[0m\u001b[0;34m\u001b[0m\u001b[0;34m\u001b[0m\u001b[0m\n\u001b[1;32m    476\u001b[0m             \u001b[0mprocess\u001b[0m\u001b[0;34m.\u001b[0m\u001b[0mkill\u001b[0m\u001b[0;34m(\u001b[0m\u001b[0;34m)\u001b[0m\u001b[0;34m\u001b[0m\u001b[0;34m\u001b[0m\u001b[0m\n",
      "\u001b[0;32m/Library/Frameworks/Python.framework/Versions/3.7/lib/python3.7/subprocess.py\u001b[0m in \u001b[0;36mcommunicate\u001b[0;34m(self, input, timeout)\u001b[0m\n\u001b[1;32m    929\u001b[0m                 \u001b[0mstderr\u001b[0m \u001b[0;34m=\u001b[0m \u001b[0mself\u001b[0m\u001b[0;34m.\u001b[0m\u001b[0mstderr\u001b[0m\u001b[0;34m.\u001b[0m\u001b[0mread\u001b[0m\u001b[0;34m(\u001b[0m\u001b[0;34m)\u001b[0m\u001b[0;34m\u001b[0m\u001b[0;34m\u001b[0m\u001b[0m\n\u001b[1;32m    930\u001b[0m                 \u001b[0mself\u001b[0m\u001b[0;34m.\u001b[0m\u001b[0mstderr\u001b[0m\u001b[0;34m.\u001b[0m\u001b[0mclose\u001b[0m\u001b[0;34m(\u001b[0m\u001b[0;34m)\u001b[0m\u001b[0;34m\u001b[0m\u001b[0;34m\u001b[0m\u001b[0m\n\u001b[0;32m--> 931\u001b[0;31m             \u001b[0mself\u001b[0m\u001b[0;34m.\u001b[0m\u001b[0mwait\u001b[0m\u001b[0;34m(\u001b[0m\u001b[0;34m)\u001b[0m\u001b[0;34m\u001b[0m\u001b[0;34m\u001b[0m\u001b[0m\n\u001b[0m\u001b[1;32m    932\u001b[0m         \u001b[0;32melse\u001b[0m\u001b[0;34m:\u001b[0m\u001b[0;34m\u001b[0m\u001b[0;34m\u001b[0m\u001b[0m\n\u001b[1;32m    933\u001b[0m             \u001b[0;32mif\u001b[0m \u001b[0mtimeout\u001b[0m \u001b[0;32mis\u001b[0m \u001b[0;32mnot\u001b[0m \u001b[0;32mNone\u001b[0m\u001b[0;34m:\u001b[0m\u001b[0;34m\u001b[0m\u001b[0;34m\u001b[0m\u001b[0m\n",
      "\u001b[0;32m/Library/Frameworks/Python.framework/Versions/3.7/lib/python3.7/subprocess.py\u001b[0m in \u001b[0;36mwait\u001b[0;34m(self, timeout)\u001b[0m\n\u001b[1;32m    988\u001b[0m             \u001b[0mendtime\u001b[0m \u001b[0;34m=\u001b[0m \u001b[0m_time\u001b[0m\u001b[0;34m(\u001b[0m\u001b[0;34m)\u001b[0m \u001b[0;34m+\u001b[0m \u001b[0mtimeout\u001b[0m\u001b[0;34m\u001b[0m\u001b[0;34m\u001b[0m\u001b[0m\n\u001b[1;32m    989\u001b[0m         \u001b[0;32mtry\u001b[0m\u001b[0;34m:\u001b[0m\u001b[0;34m\u001b[0m\u001b[0;34m\u001b[0m\u001b[0m\n\u001b[0;32m--> 990\u001b[0;31m             \u001b[0;32mreturn\u001b[0m \u001b[0mself\u001b[0m\u001b[0;34m.\u001b[0m\u001b[0m_wait\u001b[0m\u001b[0;34m(\u001b[0m\u001b[0mtimeout\u001b[0m\u001b[0;34m=\u001b[0m\u001b[0mtimeout\u001b[0m\u001b[0;34m)\u001b[0m\u001b[0;34m\u001b[0m\u001b[0;34m\u001b[0m\u001b[0m\n\u001b[0m\u001b[1;32m    991\u001b[0m         \u001b[0;32mexcept\u001b[0m \u001b[0mKeyboardInterrupt\u001b[0m\u001b[0;34m:\u001b[0m\u001b[0;34m\u001b[0m\u001b[0;34m\u001b[0m\u001b[0m\n\u001b[1;32m    992\u001b[0m             \u001b[0;31m# https://bugs.python.org/issue25942\u001b[0m\u001b[0;34m\u001b[0m\u001b[0;34m\u001b[0m\u001b[0;34m\u001b[0m\u001b[0m\n",
      "\u001b[0;32m/Library/Frameworks/Python.framework/Versions/3.7/lib/python3.7/subprocess.py\u001b[0m in \u001b[0;36m_wait\u001b[0;34m(self, timeout)\u001b[0m\n\u001b[1;32m   1622\u001b[0m                         \u001b[0;32mif\u001b[0m \u001b[0mself\u001b[0m\u001b[0;34m.\u001b[0m\u001b[0mreturncode\u001b[0m \u001b[0;32mis\u001b[0m \u001b[0;32mnot\u001b[0m \u001b[0;32mNone\u001b[0m\u001b[0;34m:\u001b[0m\u001b[0;34m\u001b[0m\u001b[0;34m\u001b[0m\u001b[0m\n\u001b[1;32m   1623\u001b[0m                             \u001b[0;32mbreak\u001b[0m  \u001b[0;31m# Another thread waited.\u001b[0m\u001b[0;34m\u001b[0m\u001b[0;34m\u001b[0m\u001b[0m\n\u001b[0;32m-> 1624\u001b[0;31m                         \u001b[0;34m(\u001b[0m\u001b[0mpid\u001b[0m\u001b[0;34m,\u001b[0m \u001b[0msts\u001b[0m\u001b[0;34m)\u001b[0m \u001b[0;34m=\u001b[0m \u001b[0mself\u001b[0m\u001b[0;34m.\u001b[0m\u001b[0m_try_wait\u001b[0m\u001b[0;34m(\u001b[0m\u001b[0;36m0\u001b[0m\u001b[0;34m)\u001b[0m\u001b[0;34m\u001b[0m\u001b[0;34m\u001b[0m\u001b[0m\n\u001b[0m\u001b[1;32m   1625\u001b[0m                         \u001b[0;31m# Check the pid and loop as waitpid has been known to\u001b[0m\u001b[0;34m\u001b[0m\u001b[0;34m\u001b[0m\u001b[0;34m\u001b[0m\u001b[0m\n\u001b[1;32m   1626\u001b[0m                         \u001b[0;31m# return 0 even without WNOHANG in odd situations.\u001b[0m\u001b[0;34m\u001b[0m\u001b[0;34m\u001b[0m\u001b[0;34m\u001b[0m\u001b[0m\n",
      "\u001b[0;32m/Library/Frameworks/Python.framework/Versions/3.7/lib/python3.7/subprocess.py\u001b[0m in \u001b[0;36m_try_wait\u001b[0;34m(self, wait_flags)\u001b[0m\n\u001b[1;32m   1580\u001b[0m             \u001b[0;34m\"\"\"All callers to this function MUST hold self._waitpid_lock.\"\"\"\u001b[0m\u001b[0;34m\u001b[0m\u001b[0;34m\u001b[0m\u001b[0m\n\u001b[1;32m   1581\u001b[0m             \u001b[0;32mtry\u001b[0m\u001b[0;34m:\u001b[0m\u001b[0;34m\u001b[0m\u001b[0;34m\u001b[0m\u001b[0m\n\u001b[0;32m-> 1582\u001b[0;31m                 \u001b[0;34m(\u001b[0m\u001b[0mpid\u001b[0m\u001b[0;34m,\u001b[0m \u001b[0msts\u001b[0m\u001b[0;34m)\u001b[0m \u001b[0;34m=\u001b[0m \u001b[0mos\u001b[0m\u001b[0;34m.\u001b[0m\u001b[0mwaitpid\u001b[0m\u001b[0;34m(\u001b[0m\u001b[0mself\u001b[0m\u001b[0;34m.\u001b[0m\u001b[0mpid\u001b[0m\u001b[0;34m,\u001b[0m \u001b[0mwait_flags\u001b[0m\u001b[0;34m)\u001b[0m\u001b[0;34m\u001b[0m\u001b[0;34m\u001b[0m\u001b[0m\n\u001b[0m\u001b[1;32m   1583\u001b[0m             \u001b[0;32mexcept\u001b[0m \u001b[0mChildProcessError\u001b[0m\u001b[0;34m:\u001b[0m\u001b[0;34m\u001b[0m\u001b[0;34m\u001b[0m\u001b[0m\n\u001b[1;32m   1584\u001b[0m                 \u001b[0;31m# This happens if SIGCLD is set to be ignored or waiting\u001b[0m\u001b[0;34m\u001b[0m\u001b[0;34m\u001b[0m\u001b[0;34m\u001b[0m\u001b[0m\n",
      "\u001b[0;31mKeyboardInterrupt\u001b[0m: "
     ]
    }
   ],
   "source": [
    "\n",
    "for param_noise in noise_levels:\n",
    "    # ----------- SAVE ----------- #\n",
    "    if save_dataset:\n",
    "        directory, filename = get_next_file_name(out_dir)\n",
    "\n",
    "        # don't use default bounds for var_dg    \n",
    "        fuzzy_params = add_noise2params(parameter_set, param_noise)\n",
    "        print(fuzzy_params)           \n",
    "        write_param_file(os.path.join(directory, \"parameters.txt\"), fuzzy_params) \n",
    "\n",
    "        write_csv_config(os.path.join(directory, \"csv_config.txt\"))\n",
    "        dataset.to_csv(filename)\n",
    "        print(\"New simulation saved in\", filename)\n",
    "\n",
    "        # ----------- RUN ----------- #\n",
    "        if run_ggp:\n",
    "            run_cmd = suggest_run_command(directory, filename)\n",
    "            print(\"run: -> \\n\", run_cmd)\n",
    "            s = subprocess.run(run_cmd, capture_output=False, shell=True)\n",
    "            print(s)\n",
    "        "
   ]
  },
  {
   "cell_type": "code",
   "execution_count": null,
   "metadata": {},
   "outputs": [],
   "source": []
  }
 ],
 "metadata": {
  "kernelspec": {
   "display_name": "Python 3",
   "language": "python",
   "name": "python3"
  },
  "language_info": {
   "codemirror_mode": {
    "name": "ipython",
    "version": 3
   },
   "file_extension": ".py",
   "mimetype": "text/x-python",
   "name": "python",
   "nbconvert_exporter": "python",
   "pygments_lexer": "ipython3",
   "version": "3.7.2"
  }
 },
 "nbformat": 4,
 "nbformat_minor": 2
}
